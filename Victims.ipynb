{
 "cells": [
  {
   "cell_type": "code",
   "execution_count": 1,
   "metadata": {},
   "outputs": [],
   "source": [
    "# dependencies \n",
    "import pandas as pd\n",
    "import numpy as np\n",
    "import matplotlib.pyplot as plt\n",
    "import scipy.stats as st"
   ]
  },
  {
   "cell_type": "code",
   "execution_count": 2,
   "metadata": {},
   "outputs": [
    {
     "data": {
      "text/html": [
       "<div>\n",
       "<style scoped>\n",
       "    .dataframe tbody tr th:only-of-type {\n",
       "        vertical-align: middle;\n",
       "    }\n",
       "\n",
       "    .dataframe tbody tr th {\n",
       "        vertical-align: top;\n",
       "    }\n",
       "\n",
       "    .dataframe thead th {\n",
       "        text-align: right;\n",
       "    }\n",
       "</style>\n",
       "<table border=\"1\" class=\"dataframe\">\n",
       "  <thead>\n",
       "    <tr style=\"text-align: right;\">\n",
       "      <th></th>\n",
       "      <th>Attack Date</th>\n",
       "      <th>Year</th>\n",
       "      <th>Type</th>\n",
       "      <th>Country</th>\n",
       "      <th>Area</th>\n",
       "      <th>Location</th>\n",
       "      <th>Activity</th>\n",
       "      <th>Sex</th>\n",
       "      <th>Age</th>\n",
       "      <th>Injury</th>\n",
       "      <th>Fatal (Y/N)</th>\n",
       "      <th>Species</th>\n",
       "    </tr>\n",
       "  </thead>\n",
       "  <tbody>\n",
       "    <tr>\n",
       "      <th>0</th>\n",
       "      <td>6/25/2018</td>\n",
       "      <td>2018</td>\n",
       "      <td>Boating</td>\n",
       "      <td>USA</td>\n",
       "      <td>California</td>\n",
       "      <td>Oceanside, San Diego County</td>\n",
       "      <td>Paddling</td>\n",
       "      <td>F</td>\n",
       "      <td>57</td>\n",
       "      <td>No injury to occupant, outrigger canoe and pad...</td>\n",
       "      <td>N</td>\n",
       "      <td>White shark</td>\n",
       "    </tr>\n",
       "    <tr>\n",
       "      <th>1</th>\n",
       "      <td>6/18/2018</td>\n",
       "      <td>2018</td>\n",
       "      <td>Unprovoked</td>\n",
       "      <td>USA</td>\n",
       "      <td>Georgia</td>\n",
       "      <td>St. Simon Island, Glynn County</td>\n",
       "      <td>Standing</td>\n",
       "      <td>F</td>\n",
       "      <td>11</td>\n",
       "      <td>Minor injury to left thigh</td>\n",
       "      <td>N</td>\n",
       "      <td>NaN</td>\n",
       "    </tr>\n",
       "    <tr>\n",
       "      <th>2</th>\n",
       "      <td>6/9/2018</td>\n",
       "      <td>2018</td>\n",
       "      <td>Unknown</td>\n",
       "      <td>USA</td>\n",
       "      <td>Hawaii</td>\n",
       "      <td>Habush, Oahu</td>\n",
       "      <td>Surfing</td>\n",
       "      <td>M</td>\n",
       "      <td>48</td>\n",
       "      <td>Injury to left lower leg from surfboard skeg</td>\n",
       "      <td>N</td>\n",
       "      <td>NaN</td>\n",
       "    </tr>\n",
       "    <tr>\n",
       "      <th>3</th>\n",
       "      <td>6/8/2018</td>\n",
       "      <td>2018</td>\n",
       "      <td>Unprovoked</td>\n",
       "      <td>AUSTRALIA</td>\n",
       "      <td>New South Wales</td>\n",
       "      <td>Arrawarra Headland</td>\n",
       "      <td>Surfing</td>\n",
       "      <td>M</td>\n",
       "      <td>NaN</td>\n",
       "      <td>Minor injury to lower leg</td>\n",
       "      <td>N</td>\n",
       "      <td>2 m shark</td>\n",
       "    </tr>\n",
       "    <tr>\n",
       "      <th>4</th>\n",
       "      <td>6/4/2018</td>\n",
       "      <td>2018</td>\n",
       "      <td>Provoked</td>\n",
       "      <td>MEXICO</td>\n",
       "      <td>Colima</td>\n",
       "      <td>La Ticla</td>\n",
       "      <td>Diving</td>\n",
       "      <td>M</td>\n",
       "      <td>NaN</td>\n",
       "      <td>Lacerations to leg &amp; hand shark PROVOKED INCIDENT</td>\n",
       "      <td>N</td>\n",
       "      <td>Tiger shark, 3m</td>\n",
       "    </tr>\n",
       "  </tbody>\n",
       "</table>\n",
       "</div>"
      ],
      "text/plain": [
       "  Attack Date  Year        Type    Country             Area  \\\n",
       "0   6/25/2018  2018     Boating        USA       California   \n",
       "1   6/18/2018  2018  Unprovoked        USA          Georgia   \n",
       "2    6/9/2018  2018     Unknown        USA           Hawaii   \n",
       "3    6/8/2018  2018  Unprovoked  AUSTRALIA  New South Wales   \n",
       "4    6/4/2018  2018    Provoked     MEXICO           Colima   \n",
       "\n",
       "                         Location  Activity Sex   Age  \\\n",
       "0     Oceanside, San Diego County  Paddling    F   57   \n",
       "1  St. Simon Island, Glynn County  Standing    F   11   \n",
       "2                    Habush, Oahu   Surfing    M   48   \n",
       "3              Arrawarra Headland   Surfing    M  NaN   \n",
       "4                        La Ticla    Diving    M  NaN   \n",
       "\n",
       "                                              Injury Fatal (Y/N)  \\\n",
       "0  No injury to occupant, outrigger canoe and pad...           N   \n",
       "1                         Minor injury to left thigh           N   \n",
       "2       Injury to left lower leg from surfboard skeg           N   \n",
       "3                          Minor injury to lower leg           N   \n",
       "4  Lacerations to leg & hand shark PROVOKED INCIDENT           N   \n",
       "\n",
       "          Species   \n",
       "0      White shark  \n",
       "1              NaN  \n",
       "2              NaN  \n",
       "3        2 m shark  \n",
       "4  Tiger shark, 3m  "
      ]
     },
     "execution_count": 2,
     "metadata": {},
     "output_type": "execute_result"
    }
   ],
   "source": [
    "# read CSV file \n",
    "file_to_load = \"clean_sharks.csv\"\n",
    "victim_df = pd.read_csv(file_to_load)\n",
    "victim_df.head()"
   ]
  },
  {
   "cell_type": "code",
   "execution_count": 3,
   "metadata": {
    "scrolled": true
   },
   "outputs": [
    {
     "data": {
      "text/plain": [
       "Unprovoked    2499\n",
       "Unknown        459\n",
       "Provoked       232\n",
       "Name: Type, dtype: int64"
      ]
     },
     "execution_count": 3,
     "metadata": {},
     "output_type": "execute_result"
    }
   ],
   "source": [
    "#clean up Type column\n",
    "victim_df.loc[victim_df['Type'].str.contains('Boating', na =False,case=False), 'Type'] = 'Unknown'\n",
    "victim_df.loc[victim_df['Type'].str.contains('Sea Disaster', na =False,case=False), 'Type'] = 'Unknown'\n",
    "victim_df['Type'].value_counts()"
   ]
  },
  {
   "cell_type": "markdown",
   "metadata": {},
   "source": [
    "\"Boating\" and \"Sea Disaster\" recategorized as \"unknown\" "
   ]
  },
  {
   "cell_type": "code",
   "execution_count": 4,
   "metadata": {},
   "outputs": [
    {
     "data": {
      "text/plain": [
       "N          2595\n",
       "Y           329\n",
       "Unknown      22\n",
       "Name: Fatal (Y/N), dtype: int64"
      ]
     },
     "execution_count": 4,
     "metadata": {},
     "output_type": "execute_result"
    }
   ],
   "source": [
    "#clean up Fatal column\n",
    "victim_df.loc[victim_df['Fatal (Y/N)'].str.contains('M', na =False,case=False), 'Fatal (Y/N)'] = 'Unknown'\n",
    "victim_df.loc[victim_df['Fatal (Y/N)'].str.contains('2017', na =False,case=False), 'Fatal (Y/N)'] = 'Unknown'\n",
    "victim_df.loc[victim_df['Fatal (Y/N)'].str.contains('UNKNOWN', na =False,case=False), 'Fatal (Y/N)'] = 'Unknown'\n",
    "victim_df['Fatal (Y/N)'].value_counts()"
   ]
  },
  {
   "cell_type": "markdown",
   "metadata": {},
   "source": [
    "\"2017\" and \"M\" recategorized as \"unknown"
   ]
  },
  {
   "cell_type": "code",
   "execution_count": 5,
   "metadata": {},
   "outputs": [
    {
     "data": {
      "text/plain": [
       "array(['57', '11', '48', nan, '18', '52', '15', '12', '32', '10', '21',\n",
       "       '34', '30', '60', '33', '29', '54', '41', '37', '56', '19', '25',\n",
       "       '69', '38', '55', '35', '46', '45', '14', '40s', '28', '20', '24',\n",
       "       '26', '49', '22', '7', '31', '17', '40', '13', '42', '3', '8',\n",
       "       '50', '16', '82', '73', '20s', '68', '51', '39', '58', 'Teen',\n",
       "       '47', '61', '65', '36', '66', '43', '60s', '9', '72', '59', '6',\n",
       "       '27', '64', '23', '71', '44', '62', '63', '70', '18 months', '53',\n",
       "       '30s', '50s', 'teen', '77', '74', '28 & 26', '5', '86', '18 or 20',\n",
       "       '12 or 13', '46 & 34', '28, 23 & 30', 'Teens', '36 & 26',\n",
       "       '8 or 10', '84', '� ', ' ', '30 or 36', '6�', '21 & ?', '75',\n",
       "       '33 or 37', 'mid-30s', '23 & 20', '7      &    31', '20?', \"60's\",\n",
       "       '32 & 30', '16 to 18', '87', '67', 'Elderly', 'mid-20s', 'Ca. 33',\n",
       "       '21 or 26'], dtype=object)"
      ]
     },
     "execution_count": 5,
     "metadata": {},
     "output_type": "execute_result"
    }
   ],
   "source": [
    "#view Age column\n",
    "victim_df[\"Age\"].unique()\n"
   ]
  },
  {
   "cell_type": "code",
   "execution_count": 6,
   "metadata": {},
   "outputs": [],
   "source": [
    "#split victims to own column \n",
    "victim_df[['Age', 'Age2']]=victim_df[\"Age\"].str.split('& ',expand=True)\n",
    "#victim_df[['Age', 'Age2']]=victim_df[\"Age\"].str.split(',',expand=True)"
   ]
  },
  {
   "cell_type": "code",
   "execution_count": 7,
   "metadata": {},
   "outputs": [
    {
     "data": {
      "text/plain": [
       "array(['57', '11', '48', nan, '18', '52', '15', '12', '32', '10', '21',\n",
       "       '34', '30', '60', '33', '29', '54', '41', '37', '56', '19', '25',\n",
       "       '69', '38', '55', '35', '46', '45', '14', '40s', '28', '20', '24',\n",
       "       '26', '49', '22', '7', '31', '17', '40', '13', '42', '3', '8',\n",
       "       '50', '16', '82', '73', '20s', '68', '51', '39', '58', 'Teen',\n",
       "       '47', '61', '65', '36', '66', '43', '60s', '9', '72', '59', '6',\n",
       "       '27', '64', '23', '71', '44', '62', '63', '70', '18 months', '53',\n",
       "       '30s', '50s', 'teen', '77', '74', '28 ', '5', '86', '18 or 20',\n",
       "       '12 or 13', '46 ', '28, 23 ', 'Teens', '36 ', '8 or 10', '84',\n",
       "       '� ', ' ', '30 or 36', '6�', '21 ', '75', '33 or 37', 'mid-30s',\n",
       "       '23 ', '7      ', '20?', \"60's\", '32 ', '16 to 18', '87', '67',\n",
       "       'Elderly', 'mid-20s', 'Ca. 33', '21 or 26'], dtype=object)"
      ]
     },
     "execution_count": 7,
     "metadata": {},
     "output_type": "execute_result"
    }
   ],
   "source": [
    "victim_df[\"Age\"].unique()"
   ]
  },
  {
   "cell_type": "code",
   "execution_count": 8,
   "metadata": {},
   "outputs": [
    {
     "data": {
      "text/plain": [
       "array(['57', '11', '48', nan, '18', '20', '15', '10', '34', '30', '60',\n",
       "       '33', '54', '41', '37', '19', '38', '55', '35', '45', '14', '40',\n",
       "       '49', '7', '31', '17', '13', '3', '8', '50', '73', '51', '39',\n",
       "       '58', 'teen', '47', '43', '9', '59', '71', '44', '70', '1', '53',\n",
       "       '77', '74', '5', '84', ' ', '75', '87'], dtype=object)"
      ]
     },
     "execution_count": 8,
     "metadata": {},
     "output_type": "execute_result"
    }
   ],
   "source": [
    "# drop blank \n",
    "victim_df[\"Age\"].dropna()\n",
    "\n",
    "\n",
    "\n",
    "#clean age & age2 columns\n",
    "victim_df.loc[victim_df['Age'].str.contains('months', na =False,case=False), 'Age'] = '1'\n",
    "victim_df.loc[victim_df['Age'].str.contains(\"60's\", na =False,case=False), 'Age'] = '60'\n",
    "victim_df.loc[victim_df['Age'].str.contains(\"60s\", na =False,case=False), 'Age'] = '60'\n",
    "victim_df.loc[victim_df['Age'].str.contains(\"50s\", na =False,case=False), 'Age'] = '50'\n",
    "victim_df.loc[victim_df['Age'].str.contains(\"50's\", na =False,case=False), 'Age'] = '50'\n",
    "victim_df.loc[victim_df['Age'].str.contains(\"elderly\", na =False,case=False), 'Age'] = '70'\n",
    "victim_df.loc[victim_df['Age'].str.contains(\"12 or 13\", na =False,case=False), 'Age'] = '13'\n",
    "victim_df.loc[victim_df['Age'].str.contains(\"mid-30\", na =False,case=False), 'Age'] = '35'\n",
    "victim_df.loc[victim_df['Age'].str.contains(\"16 to\", na =False,case=False), 'Age'] = '16'\n",
    "victim_df.loc[victim_df['Age'].str.contains(\"21 or\", na =False,case=False), 'Age'] = '21'\n",
    "victim_df.loc[victim_df['Age'].str.contains(\"mid-20\", na =False,case=False), 'Age'] = '25'\n",
    "victim_df.loc[victim_df['Age'].str.contains(\"20s\", na =False,case=False), 'Age'] = '20'\n",
    "victim_df.loc[victim_df['Age'].str.contains(\"30 or\", na =False,case=False), 'Age'] = '30'\n",
    "victim_df.loc[victim_df['Age'].str.contains(\"30s\", na =False,case=False), 'Age'] = '30'\n",
    "victim_df.loc[victim_df['Age'].str.contains(\"33 or\", na =False,case=False), 'Age'] = '33'\n",
    "victim_df.loc[victim_df['Age'].str.contains(\"8 or\", na =False,case=False), 'Age'] = '8'\n",
    "victim_df.loc[victim_df['Age'].str.contains(\"7   \", na =False,case=False), 'Age'] = '7'\n",
    "victim_df.loc[victim_df['Age'].str.contains('40s', na =False,case=False), 'Age'] = '40'\n",
    "victim_df.loc[victim_df['Age'].str.contains('20?', na =False,case=False), 'Age'] = '20'\n",
    "victim_df.loc[victim_df['Age'].str.contains('ca.', na =False,case=False), 'Age'] = '33'\n",
    "victim_df.loc[victim_df['Age'].str.contains('een', na =False,case=False), 'Age'] = 'teen'\n",
    "victim_df.loc[victim_df['Age'].str.contains('60?', na =False,case=False), 'Age'] = '60'\n",
    "victim_df.loc[victim_df['Age'].str.contains('� ', na =False,case=False), 'Age'] = ' '\n",
    "\n",
    "victim_df[\"Age\"].dropna()\n",
    "\n",
    "victim_df[\"Age\"].unique()\n"
   ]
  },
  {
   "cell_type": "code",
   "execution_count": 9,
   "metadata": {},
   "outputs": [
    {
     "data": {
      "text/plain": [
       "array([None, nan, '26', '34', '30', '?', '20', '   31'], dtype=object)"
      ]
     },
     "execution_count": 9,
     "metadata": {},
     "output_type": "execute_result"
    }
   ],
   "source": [
    "# drop blank \n",
    "#victim_df.loc[victim_df['Age2'].str.contains('   31', na =False,case=False), 'Age2'] = '31'\n",
    "#victim_df.loc[victim_df['Age2'].str.contains(' ?', na =False,case=False), 'Age2'] = ' '\n",
    "victim_df[\"Age2\"].unique()\n"
   ]
  },
  {
   "cell_type": "code",
   "execution_count": 10,
   "metadata": {},
   "outputs": [
    {
     "data": {
      "text/plain": [
       "Minor to Moderate    2527\n",
       "Severe                622\n",
       "Not Answered           23\n",
       "None                   14\n",
       "Name: Injury, dtype: int64"
      ]
     },
     "execution_count": 10,
     "metadata": {},
     "output_type": "execute_result"
    }
   ],
   "source": [
    "#clean injury column\n",
    "victim_df.loc[victim_df['Injury'].str.contains('Severed', na =False,case=False), 'Injury'] = 'Severe'\n",
    "victim_df.loc[victim_df['Injury'].str.contains('Fatal', na =False,case=False), 'Injury'] = 'Severe'\n",
    "victim_df.loc[victim_df['Injury'].str.contains('Fracture', na =False,case=False), 'Injury'] = 'Severe'\n",
    "victim_df.loc[victim_df['Injury'].str.contains('scaveng', na =False,case=False), 'Injury'] = 'Severe'\n",
    "victim_df.loc[victim_df['Injury'].str.contains('death', na =False,case=False), 'Injury'] = 'Severe'\n",
    "victim_df.loc[victim_df['Injury'].str.contains('serious', na =False,case=False), 'Injury'] = 'Severe'\n",
    "victim_df.loc[victim_df['Injury'].str.contains('severe', na =False,case=False), 'Injury'] = 'Severe'\n",
    "victim_df.loc[victim_df['Injury'].str.contains('disappear', na =False,case=False), 'Injury'] = 'Severe'\n",
    "victim_df.loc[victim_df['Injury'].str.contains('decapitated', na =False,case=False), 'Injury'] = 'Severe'\n",
    "victim_df.loc[victim_df['Injury'].str.contains('corpse', na =False,case=False), 'Injury'] = 'Severe'\n",
    "victim_df.loc[victim_df['Injury'].str.contains('post-mortem', na =False,case=False), 'Injury'] = 'Severe'\n",
    "victim_df.loc[victim_df['Injury'].str.contains('recovered from', na =False,case=False), 'Injury'] = 'Severe'\n",
    "victim_df.loc[victim_df['Injury'].str.contains('missing', na =False,case=False), 'Injury'] = 'Severe'\n",
    "victim_df.loc[victim_df['Injury'].str.contains('drown', na =False,case=False), 'Injury'] = 'Severe'\n",
    "victim_df.loc[victim_df['Injury'].str.contains('swept out to sea', na =False,case=False), 'Injury'] = 'Severe'\n",
    "victim_df.loc[victim_df['Injury'].str.contains('found', na =False,case=False), 'Injury'] = 'Severe'\n",
    "victim_df.loc[victim_df['Injury'].str.contains('removed', na =False,case=False), 'Injury'] = 'Severe'\n",
    "victim_df.loc[victim_df['Injury'].str.contains('remains', na =False,case=False), 'Injury'] = 'Severe'\n",
    "victim_df.loc[victim_df['Injury'].str.contains('broken ribs', na =False,case=False), 'Injury'] = 'Severe'\n",
    "victim_df.loc[victim_df['Injury'].str.contains('killed', na =False,case=False), 'Injury'] = 'Severe'\n",
    "victim_df.loc[victim_df['Injury'].str.contains('lost', na =False,case=False), 'Injury'] = 'Severe'\n",
    "victim_df.loc[victim_df['Injury'].str.contains('amputat', na =False,case=False), 'Injury'] = 'Severe'\n",
    "victim_df.loc[victim_df['Injury'].str.contains('recovered', na =False,case=False), 'Injury'] = 'Severe'\n",
    "victim_df.loc[victim_df['Injury'].str.contains('taken', na =False,case=False), 'Injury'] = 'Severe'\n",
    "victim_df.loc[victim_df['Injury'].str.contains('massive', na =False,case=False), 'Injury'] = 'Severe'\n",
    "victim_df.loc[victim_df['Injury'].str.contains('cracked', na =False,case=False), 'Injury'] = 'Severe'\n",
    "\n",
    "victim_df.loc[victim_df['Injury'].str.contains('Minor', na =False,case=False), 'Injury'] = 'Minor to Moderate'\n",
    "victim_df.loc[victim_df['Injury'].str.contains('puncture', na =False,case=False), 'Injury'] = 'Minor to Moderate'\n",
    "victim_df.loc[victim_df['Injury'].str.contains('superfic', na =False,case=False), 'Injury'] = 'Minor to Moderate'\n",
    "victim_df.loc[victim_df['Injury'].str.contains('lacerat', na =False,case=False), 'Injury'] = 'Minor to Moderate'\n",
    "victim_df.loc[victim_df['Injury'].str.contains('nipped', na =False,case=False), 'Injury'] = 'Minor to Moderate'\n",
    "victim_df.loc[victim_df['Injury'].str.contains('bitten', na =False,case=False), 'Injury'] = 'Minor to Moderate'\n",
    "victim_df.loc[victim_df['Injury'].str.contains('cuts', na =False,case=False), 'Injury'] = 'Minor to Moderate'\n",
    "victim_df.loc[victim_df['Injury'].str.contains('abraded', na =False,case=False), 'Injury'] = 'Minor to Moderate'\n",
    "victim_df.loc[victim_df['Injury'].str.contains('injur', na =False,case=False), 'Injury'] = 'Minor to Moderate'\n",
    "victim_df.loc[victim_df['Injury'].str.contains('wound', na =False,case=False), 'Injury'] = 'Minor to Moderate'\n",
    "victim_df.loc[victim_df['Injury'].str.contains('bit', na =False,case=False), 'Injury'] = 'Minor to Moderate'\n",
    "victim_df.loc[victim_df['Injury'].str.contains('cut', na =False,case=False), 'Injury'] = 'Minor to Moderate'\n",
    "victim_df.loc[victim_df['Injury'].str.contains('torn', na =False,case=False), 'Injury'] = 'Minor to Moderate'\n",
    "victim_df.loc[victim_df['Injury'].str.contains('abrasion', na =False,case=False), 'Injury'] = 'Minor to Moderate'\n",
    "victim_df.loc[victim_df['Injury'].str.contains('bruised', na =False,case=False), 'Injury'] = 'Minor to Moderate'\n",
    "victim_df.loc[victim_df['Injury'].str.contains('survived', na =False,case=False), 'Injury'] = 'Minor to Moderate'\n",
    "victim_df.loc[victim_df['Injury'].str.contains('bumped', na =False,case=False), 'Injury'] = 'Minor to Moderate'\n",
    "victim_df.loc[victim_df['Injury'].str.contains('pull', na =False,case=False), 'Injury'] = 'Minor to Moderate'\n",
    "victim_df.loc[victim_df['Injury'].str.contains('gash', na =False,case=False), 'Injury'] = 'Minor to Moderate'\n",
    "victim_df.loc[victim_df['Injury'].str.contains('bruise', na =False,case=False), 'Injury'] = 'Minor to Moderate'\n",
    "victim_df.loc[victim_df['Injury'].str.contains('grab', na =False,case=False), 'Injury'] = 'Minor to Moderate'\n",
    "victim_df.loc[victim_df['Injury'].str.contains('struck', na =False,case=False), 'Injury'] = 'Minor to Moderate'\n",
    "victim_df.loc[victim_df['Injury'].str.contains('avulsion', na =False,case=False), 'Injury'] = 'Minor to Moderate'\n",
    "victim_df.loc[victim_df['Injury'].str.contains('nip', na =False,case=False), 'Injury'] = 'Minor to Moderate'\n",
    "victim_df.loc[victim_df['Injury'].str.contains('graze', na =False,case=False), 'Injury'] = 'Minor to Moderate'\n",
    "victim_df.loc[victim_df['Injury'].str.contains('avulsed', na =False,case=False), 'Injury'] = 'Minor to Moderate'\n",
    "victim_df.loc[victim_df['Injury'].str.contains('scratch', na =False,case=False), 'Injury'] = 'Minor to Moderate'\n",
    "victim_df.loc[victim_df['Injury'].str.contains('scrape', na =False,case=False), 'Injury'] = 'Minor to Moderate'\n",
    "victim_df.loc[victim_df['Injury'].str.contains('thigh', na =False,case=False), 'Injury'] = 'Minor to Moderate'\n",
    "victim_df.loc[victim_df['Injury'].str.contains('toothmarks', na =False,case=False), 'Injury'] = 'Minor to Moderate'\n",
    "victim_df.loc[victim_df['Injury'].str.contains('heel', na =False,case=False), 'Injury'] = 'Minor to Moderate'\n",
    "victim_df.loc[victim_df['Injury'].str.contains('pinch', na =False,case=False), 'Injury'] = 'Minor to Moderate'\n",
    "victim_df.loc[victim_df['Injury'].str.contains('tooth mark', na =False,case=False), 'Injury'] = 'Minor to Moderate'\n",
    "victim_df.loc[victim_df['Injury'].str.contains('ankle', na =False,case=False), 'Injury'] = 'Minor to Moderate'\n",
    "victim_df.loc[victim_df['Injury'].str.contains('contusion', na =False,case=False), 'Injury'] = 'Minor to Moderate'\n",
    "victim_df.loc[victim_df['Injury'].str.contains('provoked', na =False,case=False), 'Injury'] = 'Minor to Moderate'\n",
    "\n",
    "victim_df.loc[victim_df['Injury'].str.contains('doubtful', na =False,case=False), 'Injury'] = 'None'\n",
    "victim_df.loc[victim_df['Injury'].str.contains('unconfirmed', na =False,case=False), 'Injury'] = 'None'\n",
    "victim_df.loc[victim_df['Injury'].str.contains('boat', na =False,case=False), 'Injury'] = 'None'\n",
    "victim_df.loc[victim_df['Injury'].str.contains('rammed', na =False,case=False), 'Injury'] = 'None'\n",
    "victim_df.loc[victim_df['Injury'].str.contains('hoax', na =False,case=False), 'Injury'] = 'None'\n",
    "victim_df.loc[victim_df['Injury'].str.contains('board', na =False,case=False), 'Injury'] = 'None'\n",
    "victim_df.loc[victim_df['Injury'].str.contains('media', na =False,case=False), 'Injury'] = 'None'\n",
    "\n",
    "victim_df.loc[victim_df['Injury'].str.contains('press', na =False,case=False), 'Injury'] = 'Not Answered'\n",
    "victim_df.loc[victim_df['Injury'].str.contains('no details', na =False,case=False), 'Injury'] = 'Not Answered'\n",
    "victim_df.loc[victim_df['Injury'].str.contains('not', na =False,case=False), 'Injury'] = 'Not Answered'\n",
    "\n",
    "victim_df[\"Injury\"].value_counts()"
   ]
  },
  {
   "cell_type": "markdown",
   "metadata": {},
   "source": [
    "Grouped injuries into 3 groups: None, Severe, and Minor to Moderate. Severe is defined as broken bones, missing limbs, loss of life. Mild to Moderate is all other injuries. None is no injuries reported, spectulation, or media involvement without facts. "
   ]
  },
  {
   "cell_type": "code",
   "execution_count": 11,
   "metadata": {
    "scrolled": true
   },
   "outputs": [
    {
     "data": {
      "text/plain": [
       "M          2513\n",
       "F           466\n",
       "Unknown       1\n",
       "Name: Sex , dtype: int64"
      ]
     },
     "execution_count": 11,
     "metadata": {},
     "output_type": "execute_result"
    }
   ],
   "source": [
    "#clean up Sex Column\n",
    "victim_df.loc[victim_df['Sex '].str.contains('lli', na =False,case=False), 'Sex '] = 'Unknown'\n",
    "victim_df.loc[victim_df['Sex '].str.contains('M ', na =False,case=False), 'Sex '] = 'M'\n",
    "victim_df['Sex '].value_counts()"
   ]
  },
  {
   "cell_type": "markdown",
   "metadata": {},
   "source": [
    "Changed \"lli\" to unknown. Defination of lli in relation to gender was unable to be found through multiple searches. "
   ]
  },
  {
   "cell_type": "code",
   "execution_count": 12,
   "metadata": {
    "scrolled": true
   },
   "outputs": [
    {
     "data": {
      "text/html": [
       "<div>\n",
       "<style scoped>\n",
       "    .dataframe tbody tr th:only-of-type {\n",
       "        vertical-align: middle;\n",
       "    }\n",
       "\n",
       "    .dataframe tbody tr th {\n",
       "        vertical-align: top;\n",
       "    }\n",
       "\n",
       "    .dataframe thead th {\n",
       "        text-align: right;\n",
       "    }\n",
       "</style>\n",
       "<table border=\"1\" class=\"dataframe\">\n",
       "  <thead>\n",
       "    <tr style=\"text-align: right;\">\n",
       "      <th></th>\n",
       "      <th>Count</th>\n",
       "    </tr>\n",
       "  </thead>\n",
       "  <tbody>\n",
       "    <tr>\n",
       "      <th>Surfing</th>\n",
       "      <td>1104</td>\n",
       "    </tr>\n",
       "    <tr>\n",
       "      <th>Swimming</th>\n",
       "      <td>577</td>\n",
       "    </tr>\n",
       "    <tr>\n",
       "      <th>Fishing (fish, shrimp, lobster, crabs)</th>\n",
       "      <td>524</td>\n",
       "    </tr>\n",
       "    <tr>\n",
       "      <th>Diving</th>\n",
       "      <td>224</td>\n",
       "    </tr>\n",
       "    <tr>\n",
       "      <th>On Shore (wading, walking, sitting)</th>\n",
       "      <td>201</td>\n",
       "    </tr>\n",
       "    <tr>\n",
       "      <th>Boarding (Boogie, Paddle, Body, SUP)</th>\n",
       "      <td>164</td>\n",
       "    </tr>\n",
       "    <tr>\n",
       "      <th>Unknown</th>\n",
       "      <td>54</td>\n",
       "    </tr>\n",
       "    <tr>\n",
       "      <th>Accident</th>\n",
       "      <td>48</td>\n",
       "    </tr>\n",
       "    <tr>\n",
       "      <th>Boating (canoe, cruise, row)</th>\n",
       "      <td>46</td>\n",
       "    </tr>\n",
       "    <tr>\n",
       "      <th>Interacting with Shark</th>\n",
       "      <td>41</td>\n",
       "    </tr>\n",
       "    <tr>\n",
       "      <th>Disaster</th>\n",
       "      <td>41</td>\n",
       "    </tr>\n",
       "    <tr>\n",
       "      <th>Kayaking</th>\n",
       "      <td>37</td>\n",
       "    </tr>\n",
       "    <tr>\n",
       "      <th></th>\n",
       "      <td>1</td>\n",
       "    </tr>\n",
       "  </tbody>\n",
       "</table>\n",
       "</div>"
      ],
      "text/plain": [
       "                                        Count\n",
       "Surfing                                  1104\n",
       "Swimming                                  577\n",
       "Fishing (fish, shrimp, lobster, crabs)    524\n",
       "Diving                                    224\n",
       "On Shore (wading, walking, sitting)       201\n",
       "Boarding (Boogie, Paddle, Body, SUP)      164\n",
       "Unknown                                    54\n",
       "Accident                                   48\n",
       "Boating (canoe, cruise, row)               46\n",
       "Interacting with Shark                     41\n",
       "Disaster                                   41\n",
       "Kayaking                                   37\n",
       "                                            1"
      ]
     },
     "execution_count": 12,
     "metadata": {},
     "output_type": "execute_result"
    }
   ],
   "source": [
    "# clean up Activity Column\n",
    "victim_df.loc[victim_df['Activity'].str.contains('Float', na =False,case=False), 'Activity'] = 'Swimming'\n",
    "victim_df.loc[victim_df['Activity'].str.contains('Snork', na =False,case=False), 'Activity'] = 'Swimming'\n",
    "victim_df.loc[victim_df['Activity'].str.contains('tread', na =False,case=False), 'Activity'] = 'Swimming'\n",
    "victim_df.loc[victim_df['Activity'].str.contains('waist', na =False,case=False), 'Activity'] = 'Swimming'\n",
    "\n",
    "victim_df.loc[victim_df['Activity'].str.contains('Dive', na =False,case=False), 'Activity'] = 'Diving'\n",
    "\n",
    "victim_df.loc[victim_df['Activity'].str.contains('sup', na =False,case=False), 'Activity'] = 'Boarding (Boogie, Paddle, Body, SUP)'\n",
    "victim_df.loc[victim_df['Activity'].str.contains('paddl', na =False,case=False), 'Activity'] = 'Boarding (Boogie, Paddle, Body, SUP)'\n",
    "\n",
    "victim_df.loc[victim_df['Activity'].str.contains('Kayak', na =False,case=False), 'Activity'] = 'Kayaking'\n",
    "\n",
    "victim_df.loc[victim_df['Activity'].str.contains('Ski', na =False,case=False), 'Activity'] = 'Boating (canoe, cruise, row)'\n",
    "victim_df.loc[victim_df['Activity'].str.contains('Boat', na =False,case=False), 'Activity'] = 'Boating (canoe, cruise, row)'\n",
    "\n",
    "victim_df.loc[victim_df['Activity'].str.contains('Row', na =False,case=False), 'Activity'] = 'Boating (canoe, cruise, row)'\n",
    "victim_df.loc[victim_df['Activity'].str.contains('sail', na =False,case=False), 'Activity'] = 'Boating (canoe, cruise, row)'\n",
    "victim_df.loc[victim_df['Activity'].str.contains('cruise', na =False,case=False), 'Activity'] = 'Boating (canoe, cruise, row)'\n",
    "victim_df.loc[victim_df['Activity'].str.contains('dinghy', na =False,case=False), 'Activity'] = 'Boating (canoe, cruise, row)'\n",
    "victim_df.loc[victim_df['Activity'].str.contains('canoe', na =False,case=False), 'Activity'] = 'Boating (canoe, cruise, row)'\n",
    "\n",
    "victim_df.loc[victim_df['Activity'].str.contains('rac', na =False,case=False), 'Activity'] = 'Competition'\n",
    "victim_df.loc[victim_df['Activity'].str.contains('compet', na =False,case=False), 'Activity'] = 'Competition'\n",
    "\n",
    "victim_df.loc[victim_df['Activity'].str.contains('Rescue', na =False,case=False), 'Activity'] = 'Accident'\n",
    "victim_df.loc[victim_df['Activity'].str.contains('Feeding', na =False,case=False), 'Activity'] = 'Accident'\n",
    "victim_df.loc[victim_df['Activity'].str.contains('Free', na =False,case=False), 'Activity'] = 'Accident'\n",
    "victim_df.loc[victim_df['Activity'].str.contains('Play', na =False,case=False), 'Activity'] = 'Accident'\n",
    "victim_df.loc[victim_df['Activity'].str.contains('jump', na =False,case=False), 'Activity'] = 'Accident'\n",
    "victim_df.loc[victim_df['Activity'].str.contains('film', na =False,case=False), 'Activity'] = 'Accident'\n",
    "victim_df.loc[victim_df['Activity'].str.contains('research', na =False,case=False), 'Activity'] = 'Accident'\n",
    "victim_df.loc[victim_df['Activity'].str.contains('anchor', na =False,case=False), 'Activity'] = 'Accident'\n",
    "victim_df.loc[victim_df['Activity'].str.contains('drill', na =False,case=False), 'Activity'] = 'Accident'\n",
    "victim_df.loc[victim_df['Activity'].str.contains('fell', na =False,case=False), 'Activity'] = 'Accident'\n",
    "victim_df.loc[victim_df['Activity'].str.contains('retri', na =False,case=False), 'Activity'] = 'Accident'\n",
    "victim_df.loc[victim_df['Activity'].str.contains('fix', na =False,case=False), 'Activity'] = 'Accident'\n",
    "victim_df.loc[victim_df['Activity'].str.contains('rescuing', na =False,case=False), 'Activity'] = 'Accident'\n",
    "\n",
    "victim_df.loc[victim_df['Activity'].str.contains('Disaster', na =False,case=False), 'Activity'] = 'Disaster'\n",
    "victim_df.loc[victim_df['Activity'].str.contains('tsunami', na =False,case=False), 'Activity'] = 'Disaster'\n",
    "victim_df.loc[victim_df['Activity'].str.contains('capsi', na =False,case=False), 'Activity'] = 'Disaster'\n",
    "victim_df.loc[victim_df['Activity'].str.contains('plung', na =False,case=False), 'Activity'] = 'Disaster'\n",
    "victim_df.loc[victim_df['Activity'].str.contains('adrift', na =False,case=False), 'Activity'] = 'Disaster'\n",
    "victim_df.loc[victim_df['Activity'].str.contains('murder', na =False,case=False), 'Activity'] = 'Disaster'\n",
    "victim_df.loc[victim_df['Activity'].str.contains('sank', na =False,case=False), 'Activity'] = 'Disaster'\n",
    "victim_df.loc[victim_df['Activity'].str.contains('passenger', na =False,case=False), 'Activity'] = 'Disaster'\n",
    "victim_df.loc[victim_df['Activity'].str.contains('sink', na =False,case=False), 'Activity'] = 'Disaster'\n",
    "victim_df.loc[victim_df['Activity'].str.contains('run down', na =False,case=False), 'Activity'] = 'Disaster'\n",
    "victim_df.loc[victim_df['Activity'].str.contains('aircraft', na =False,case=False), 'Activity'] = 'Disaster'\n",
    "victim_df.loc[victim_df['Activity'].str.contains('wreck', na =False,case=False), 'Activity'] = 'Disaster'\n",
    "victim_df.loc[victim_df['Activity'].str.contains('foundering', na =False,case=False), 'Activity'] = 'Disaster'\n",
    "victim_df.loc[victim_df['Activity'].str.contains('illegal', na =False,case=False), 'Activity'] = 'Disaster'\n",
    "\n",
    "victim_df.loc[victim_df['Activity'].str.contains('pet', na =False,case=False), 'Activity'] = 'Interacting with Shark'\n",
    "victim_df.loc[victim_df['Activity'].str.contains('Rescue', na =False,case=False), 'Activity'] = 'Interacting with Shark'\n",
    "victim_df.loc[victim_df['Activity'].str.contains('shark', na =False,case=False), 'Activity'] = 'Interacting with Shark'\n",
    "victim_df.loc[victim_df['Activity'].str.contains('NSB', na =False,case=False), 'Activity'] = 'Interacting with Shark'\n",
    "\n",
    "victim_df.loc[victim_df['Activity'].str.contains('crab', na =False,case=False), 'Activity'] = 'Fishing (fish, lobster, crabs)'\n",
    "victim_df.loc[victim_df['Activity'].str.contains('shrimp', na =False,case=False), 'Activity'] = 'Fishing (fish, shrimp, lobster, crabs)'\n",
    "victim_df.loc[victim_df['Activity'].str.contains('sardines', na =False,case=False), 'Activity'] = 'Fishing (fish, shrimp, lobster, crabs)'\n",
    "victim_df.loc[victim_df['Activity'].str.contains('lobster', na =False,case=False), 'Activity'] = 'Fishing (fish, shrimp, lobster, crabs)'\n",
    "victim_df.loc[victim_df['Activity'].str.contains('bichiques', na =False,case=False), 'Activity'] = 'Fishing (fish, shrimp, lobster, crabs)'\n",
    "victim_df.loc[victim_df['Activity'].str.contains('catch', na =False,case=False), 'Activity'] = 'Fishing (fish, shrimp, lobster, crabs)'\n",
    "victim_df.loc[victim_df['Activity'].str.contains('casting', na =False,case=False), 'Activity'] = 'Fishing (fish, shrimp, lobster, crabs)'\n",
    "victim_df.loc[victim_df['Activity'].str.contains('fishing', na =False,case=False), 'Activity'] = 'Fishing (fish, shrimp, lobster, crabs)'\n",
    "\n",
    "victim_df.loc[victim_df['Activity'].str.contains('stand', na =False,case=False), 'Activity'] = 'On Shore (wading, walking, sitting)'\n",
    "victim_df.loc[victim_df['Activity'].str.contains('walk', na =False,case=False), 'Activity'] = 'On Shore (wading, walking, sitting)'\n",
    "victim_df.loc[victim_df['Activity'].str.contains('stam', na =False,case=False), 'Activity'] = 'On Shore (wading, walking, sitting)'\n",
    "victim_df.loc[victim_df['Activity'].str.contains('wash', na =False,case=False), 'Activity'] = 'On Shore (wading, walking, sitting)'\n",
    "victim_df.loc[victim_df['Activity'].str.contains('collect', na =False,case=False), 'Activity'] = 'On Shore (wading, walking, sitting)'\n",
    "victim_df.loc[victim_df['Activity'].str.contains('wading', na =False,case=False), 'Activity'] = 'On Shore (wading, walking, sitting)'\n",
    "victim_df.loc[victim_df['Activity'].str.contains('bath', na =False,case=False), 'Activity'] = 'On Shore (wading, walking, sitting)'\n",
    "victim_df.loc[victim_df['Activity'].str.contains('sit', na =False,case=False), 'Activity'] = 'On Shore (wading, walking, sitting)'\n",
    "victim_df.loc[victim_df['Activity'].str.contains('crouch', na =False,case=False), 'Activity'] = 'On Shore (wading, walking, sitting)'\n",
    "victim_df.loc[victim_df['Activity'].str.contains('crawl', na =False,case=False), 'Activity'] = 'On Shore (wading, walking, sitting)'\n",
    "victim_df.loc[victim_df['Activity'].str.contains('hiking', na =False,case=False), 'Activity'] = 'On Shore (wading, walking, sitting)'\n",
    "victim_df.loc[victim_df['Activity'].str.contains('watch', na =False,case=False), 'Activity'] = 'On Shore (wading, walking, sitting)'\n",
    "victim_df.loc[victim_df['Activity'].str.contains('exercis', na =False,case=False), 'Activity'] = 'On Shore (wading, walking, sitting)'\n",
    "victim_df.loc[victim_df['Activity'].str.contains('splash', na =False,case=False), 'Activity'] = 'On Shore (wading, walking, sitting)'\n",
    "victim_df.loc[victim_df['Activity'].str.contains('photo', na =False,case=False), 'Activity'] = 'On Shore (wading, walking, sitting)'\n",
    "victim_df.loc[victim_df['Activity'].str.contains('prone', na =False,case=False), 'Activity'] = 'On Shore (wading, walking, sitting)'\n",
    "victim_df.loc[victim_df['Activity'].str.contains('kneel', na =False,case=False), 'Activity'] = 'On Shore (wading, walking, sitting)'\n",
    "\n",
    "victim_df.loc[victim_df['Activity'].str.contains('Kakaying', na =False,case=False), 'Activity'] = 'Kayaking'\n",
    "\n",
    "victim_df.loc[victim_df['Activity'].str.contains('batin', na =False,case=False), 'Activity'] = 'Unknown'\n",
    "victim_df.loc[victim_df['Activity'].str.contains('cruising', na =False,case=False), 'Activity'] = 'Unknown'\n",
    "\n",
    "activity_df=pd.DataFrame(victim_df['Activity'].value_counts())\n",
    "activity_df=activity_df.rename(columns={\"Activity\":\"Count\"})\n",
    "activity_df"
   ]
  },
  {
   "cell_type": "markdown",
   "metadata": {},
   "source": [
    "All activities grouped together by main intention. Accidents relates to unintential accidents while disasters relate to weather, wrecks, and human intent to cause harm. Batin and Cruising are grouped in Unknown as these have many definations and context is unknown. "
   ]
  },
  {
   "cell_type": "code",
   "execution_count": 13,
   "metadata": {},
   "outputs": [
    {
     "data": {
      "text/html": [
       "<div>\n",
       "<style scoped>\n",
       "    .dataframe tbody tr th:only-of-type {\n",
       "        vertical-align: middle;\n",
       "    }\n",
       "\n",
       "    .dataframe tbody tr th {\n",
       "        vertical-align: top;\n",
       "    }\n",
       "\n",
       "    .dataframe thead th {\n",
       "        text-align: right;\n",
       "    }\n",
       "</style>\n",
       "<table border=\"1\" class=\"dataframe\">\n",
       "  <thead>\n",
       "    <tr style=\"text-align: right;\">\n",
       "      <th></th>\n",
       "      <th>Attack Date</th>\n",
       "      <th>Year</th>\n",
       "      <th>Type</th>\n",
       "      <th>Country</th>\n",
       "      <th>Area</th>\n",
       "      <th>Location</th>\n",
       "      <th>Activity</th>\n",
       "      <th>Sex</th>\n",
       "      <th>Age</th>\n",
       "      <th>Injury</th>\n",
       "      <th>Fatal (Y/N)</th>\n",
       "      <th>Species</th>\n",
       "      <th>Age2</th>\n",
       "    </tr>\n",
       "  </thead>\n",
       "  <tbody>\n",
       "    <tr>\n",
       "      <th>0</th>\n",
       "      <td>6/25/2018</td>\n",
       "      <td>2018</td>\n",
       "      <td>Unknown</td>\n",
       "      <td>USA</td>\n",
       "      <td>California</td>\n",
       "      <td>Oceanside, San Diego County</td>\n",
       "      <td>Boarding (Boogie, Paddle, Body, SUP)</td>\n",
       "      <td>F</td>\n",
       "      <td>57</td>\n",
       "      <td>Minor to Moderate</td>\n",
       "      <td>N</td>\n",
       "      <td>White shark</td>\n",
       "      <td>None</td>\n",
       "    </tr>\n",
       "    <tr>\n",
       "      <th>1</th>\n",
       "      <td>6/18/2018</td>\n",
       "      <td>2018</td>\n",
       "      <td>Unprovoked</td>\n",
       "      <td>USA</td>\n",
       "      <td>Georgia</td>\n",
       "      <td>St. Simon Island, Glynn County</td>\n",
       "      <td>On Shore (wading, walking, sitting)</td>\n",
       "      <td>F</td>\n",
       "      <td>11</td>\n",
       "      <td>Minor to Moderate</td>\n",
       "      <td>N</td>\n",
       "      <td>NaN</td>\n",
       "      <td>None</td>\n",
       "    </tr>\n",
       "    <tr>\n",
       "      <th>2</th>\n",
       "      <td>6/9/2018</td>\n",
       "      <td>2018</td>\n",
       "      <td>Unknown</td>\n",
       "      <td>USA</td>\n",
       "      <td>Hawaii</td>\n",
       "      <td>Habush, Oahu</td>\n",
       "      <td>Surfing</td>\n",
       "      <td>M</td>\n",
       "      <td>48</td>\n",
       "      <td>Minor to Moderate</td>\n",
       "      <td>N</td>\n",
       "      <td>NaN</td>\n",
       "      <td>None</td>\n",
       "    </tr>\n",
       "    <tr>\n",
       "      <th>3</th>\n",
       "      <td>6/8/2018</td>\n",
       "      <td>2018</td>\n",
       "      <td>Unprovoked</td>\n",
       "      <td>AUSTRALIA</td>\n",
       "      <td>New South Wales</td>\n",
       "      <td>Arrawarra Headland</td>\n",
       "      <td>Surfing</td>\n",
       "      <td>M</td>\n",
       "      <td>NaN</td>\n",
       "      <td>Minor to Moderate</td>\n",
       "      <td>N</td>\n",
       "      <td>2 m shark</td>\n",
       "      <td>NaN</td>\n",
       "    </tr>\n",
       "    <tr>\n",
       "      <th>4</th>\n",
       "      <td>6/4/2018</td>\n",
       "      <td>2018</td>\n",
       "      <td>Provoked</td>\n",
       "      <td>MEXICO</td>\n",
       "      <td>Colima</td>\n",
       "      <td>La Ticla</td>\n",
       "      <td>Diving</td>\n",
       "      <td>M</td>\n",
       "      <td>NaN</td>\n",
       "      <td>Minor to Moderate</td>\n",
       "      <td>N</td>\n",
       "      <td>Tiger shark, 3m</td>\n",
       "      <td>NaN</td>\n",
       "    </tr>\n",
       "    <tr>\n",
       "      <th>...</th>\n",
       "      <td>...</td>\n",
       "      <td>...</td>\n",
       "      <td>...</td>\n",
       "      <td>...</td>\n",
       "      <td>...</td>\n",
       "      <td>...</td>\n",
       "      <td>...</td>\n",
       "      <td>...</td>\n",
       "      <td>...</td>\n",
       "      <td>...</td>\n",
       "      <td>...</td>\n",
       "      <td>...</td>\n",
       "      <td>...</td>\n",
       "    </tr>\n",
       "    <tr>\n",
       "      <th>3187</th>\n",
       "      <td>2/10/1975</td>\n",
       "      <td>1975</td>\n",
       "      <td>Unprovoked</td>\n",
       "      <td>AUSTRALIA</td>\n",
       "      <td>South Australia</td>\n",
       "      <td>(Point Sinclair) Penong</td>\n",
       "      <td>Swimming</td>\n",
       "      <td>M</td>\n",
       "      <td>20</td>\n",
       "      <td>Severe</td>\n",
       "      <td>Y</td>\n",
       "      <td>White shark, 3 m [10']</td>\n",
       "      <td>None</td>\n",
       "    </tr>\n",
       "    <tr>\n",
       "      <th>3188</th>\n",
       "      <td>2/9/1975</td>\n",
       "      <td>1975</td>\n",
       "      <td>Unprovoked</td>\n",
       "      <td>AUSTRALIA</td>\n",
       "      <td>Victoria</td>\n",
       "      <td>Anglesea</td>\n",
       "      <td>Fishing (fish, shrimp, lobster, crabs)</td>\n",
       "      <td>M</td>\n",
       "      <td>45</td>\n",
       "      <td>Minor to Moderate</td>\n",
       "      <td>N</td>\n",
       "      <td>Carpet shark, 10'</td>\n",
       "      <td>None</td>\n",
       "    </tr>\n",
       "    <tr>\n",
       "      <th>3189</th>\n",
       "      <td>2/7/1975</td>\n",
       "      <td>1975</td>\n",
       "      <td>Unprovoked</td>\n",
       "      <td>AUSTRALIA</td>\n",
       "      <td>Queensland</td>\n",
       "      <td>Currumbin Rock</td>\n",
       "      <td>NaN</td>\n",
       "      <td>M</td>\n",
       "      <td>NaN</td>\n",
       "      <td>Minor to Moderate</td>\n",
       "      <td>N</td>\n",
       "      <td>NaN</td>\n",
       "      <td>NaN</td>\n",
       "    </tr>\n",
       "    <tr>\n",
       "      <th>3190</th>\n",
       "      <td>2/1/1975</td>\n",
       "      <td>1975</td>\n",
       "      <td>Provoked</td>\n",
       "      <td>SOUTH AFRICA</td>\n",
       "      <td>Western Cape Province</td>\n",
       "      <td>Beespens, False Bay</td>\n",
       "      <td>Fishing (fish, shrimp, lobster, crabs)</td>\n",
       "      <td>M</td>\n",
       "      <td>20</td>\n",
       "      <td>Minor to Moderate</td>\n",
       "      <td>N</td>\n",
       "      <td>Copper shark, 50-kg [110-b]</td>\n",
       "      <td>None</td>\n",
       "    </tr>\n",
       "    <tr>\n",
       "      <th>3191</th>\n",
       "      <td>1/19/1975</td>\n",
       "      <td>1975</td>\n",
       "      <td>Unprovoked</td>\n",
       "      <td>AUSTRALIA</td>\n",
       "      <td>South Australia</td>\n",
       "      <td>Coffin Bay</td>\n",
       "      <td>Surfing</td>\n",
       "      <td>M</td>\n",
       "      <td>17</td>\n",
       "      <td>Severe</td>\n",
       "      <td>Y</td>\n",
       "      <td>NaN</td>\n",
       "      <td>None</td>\n",
       "    </tr>\n",
       "  </tbody>\n",
       "</table>\n",
       "<p>3192 rows × 13 columns</p>\n",
       "</div>"
      ],
      "text/plain": [
       "     Attack Date  Year        Type       Country                   Area  \\\n",
       "0      6/25/2018  2018     Unknown           USA             California   \n",
       "1      6/18/2018  2018  Unprovoked           USA                Georgia   \n",
       "2       6/9/2018  2018     Unknown           USA                 Hawaii   \n",
       "3       6/8/2018  2018  Unprovoked     AUSTRALIA        New South Wales   \n",
       "4       6/4/2018  2018    Provoked        MEXICO                 Colima   \n",
       "...          ...   ...         ...           ...                    ...   \n",
       "3187   2/10/1975  1975  Unprovoked     AUSTRALIA        South Australia   \n",
       "3188    2/9/1975  1975  Unprovoked     AUSTRALIA               Victoria   \n",
       "3189    2/7/1975  1975  Unprovoked     AUSTRALIA             Queensland   \n",
       "3190    2/1/1975  1975    Provoked  SOUTH AFRICA  Western Cape Province   \n",
       "3191   1/19/1975  1975  Unprovoked     AUSTRALIA        South Australia   \n",
       "\n",
       "                            Location                                Activity  \\\n",
       "0        Oceanside, San Diego County    Boarding (Boogie, Paddle, Body, SUP)   \n",
       "1     St. Simon Island, Glynn County     On Shore (wading, walking, sitting)   \n",
       "2                       Habush, Oahu                                 Surfing   \n",
       "3                 Arrawarra Headland                                 Surfing   \n",
       "4                           La Ticla                                  Diving   \n",
       "...                              ...                                     ...   \n",
       "3187         (Point Sinclair) Penong                                Swimming   \n",
       "3188                        Anglesea  Fishing (fish, shrimp, lobster, crabs)   \n",
       "3189                  Currumbin Rock                                     NaN   \n",
       "3190             Beespens, False Bay  Fishing (fish, shrimp, lobster, crabs)   \n",
       "3191                      Coffin Bay                                 Surfing   \n",
       "\n",
       "     Sex   Age             Injury Fatal (Y/N)                      Species   \\\n",
       "0       F   57  Minor to Moderate           N                   White shark   \n",
       "1       F   11  Minor to Moderate           N                           NaN   \n",
       "2       M   48  Minor to Moderate           N                           NaN   \n",
       "3       M  NaN  Minor to Moderate           N                     2 m shark   \n",
       "4       M  NaN  Minor to Moderate           N               Tiger shark, 3m   \n",
       "...   ...  ...                ...         ...                           ...   \n",
       "3187    M   20             Severe           Y       White shark, 3 m [10']    \n",
       "3188    M   45  Minor to Moderate           N            Carpet shark, 10'    \n",
       "3189    M  NaN  Minor to Moderate           N                           NaN   \n",
       "3190    M   20  Minor to Moderate           N  Copper shark, 50-kg [110-b]    \n",
       "3191    M   17             Severe           Y                           NaN   \n",
       "\n",
       "      Age2  \n",
       "0     None  \n",
       "1     None  \n",
       "2     None  \n",
       "3      NaN  \n",
       "4      NaN  \n",
       "...    ...  \n",
       "3187  None  \n",
       "3188  None  \n",
       "3189   NaN  \n",
       "3190  None  \n",
       "3191  None  \n",
       "\n",
       "[3192 rows x 13 columns]"
      ]
     },
     "execution_count": 13,
     "metadata": {},
     "output_type": "execute_result"
    }
   ],
   "source": [
    "victim_df"
   ]
  },
  {
   "cell_type": "code",
   "execution_count": 14,
   "metadata": {},
   "outputs": [
    {
     "data": {
      "image/png": "[encoded data removed]",
      "text/plain": [
       "<Figure size 432x288 with 1 Axes>"
      ]
     },
     "metadata": {
      "needs_background": "light"
     },
     "output_type": "display_data"
    }
   ],
   "source": [
    "# Bar chart by activity\n",
    "#activity_df = pd.DataFrame({'Activity':[victim_df['Activity']], 'Count':[activity_df]})\n",
    "ax = activity_df.plot.bar()\n",
    "plt.xticks(rotation=45, ha='right')\n",
    "plt.title(\"Activities\")\n",
    "plt.savefig('Activities.png',bbox_inches='tight')"
   ]
  },
  {
   "cell_type": "code",
   "execution_count": 15,
   "metadata": {},
   "outputs": [
    {
     "data": {
      "text/html": [
       "<div>\n",
       "<style scoped>\n",
       "    .dataframe tbody tr th:only-of-type {\n",
       "        vertical-align: middle;\n",
       "    }\n",
       "\n",
       "    .dataframe tbody tr th {\n",
       "        vertical-align: top;\n",
       "    }\n",
       "\n",
       "    .dataframe thead th {\n",
       "        text-align: right;\n",
       "    }\n",
       "</style>\n",
       "<table border=\"1\" class=\"dataframe\">\n",
       "  <thead>\n",
       "    <tr style=\"text-align: right;\">\n",
       "      <th></th>\n",
       "      <th>Sex</th>\n",
       "      <th>Count</th>\n",
       "    </tr>\n",
       "  </thead>\n",
       "  <tbody>\n",
       "    <tr>\n",
       "      <th>0</th>\n",
       "      <td>M</td>\n",
       "      <td>2513</td>\n",
       "    </tr>\n",
       "    <tr>\n",
       "      <th>1</th>\n",
       "      <td>F</td>\n",
       "      <td>466</td>\n",
       "    </tr>\n",
       "    <tr>\n",
       "      <th>2</th>\n",
       "      <td>Unknown</td>\n",
       "      <td>1</td>\n",
       "    </tr>\n",
       "  </tbody>\n",
       "</table>\n",
       "</div>"
      ],
      "text/plain": [
       "       Sex  Count\n",
       "0        M   2513\n",
       "1        F    466\n",
       "2  Unknown      1"
      ]
     },
     "execution_count": 15,
     "metadata": {},
     "output_type": "execute_result"
    }
   ],
   "source": [
    "#pie chart by gender\n",
    "gender_df=pd.DataFrame(victim_df['Sex '].value_counts().reset_index())\n",
    "gender_df=gender_df.rename(columns={\"Sex \":\"Count\", 'index':\"Sex\"})\n",
    "gender = gender_df[[\"Sex\"]]\n",
    "                    \n",
    "gender_df"
   ]
  },
  {
   "cell_type": "code",
   "execution_count": 16,
   "metadata": {},
   "outputs": [
    {
     "data": {
      "image/png": "[encoded data removed]",
      "text/plain": [
       "<Figure size 432x288 with 1 Axes>"
      ]
     },
     "metadata": {},
     "output_type": "display_data"
    }
   ],
   "source": [
    "# pie chart by gender \n",
    "y = gender_df['Count']\n",
    "mylabels = [\"Male\", \"Female\", \"Unknown\"]\n",
    "colors = [\"lightskyblue\", \"lightcoral\", \"yellow\"]\n",
    "\n",
    "plt.pie(y, labels = mylabels, colors=colors, autopct=\"%1.1f%%\")\n",
    "plt.title(\"Male vs Female\")\n",
    "plt.axis(\"equal\")\n",
    "plt.savefig('Male_vs_Female.png')"
   ]
  },
  {
   "cell_type": "code",
   "execution_count": 17,
   "metadata": {},
   "outputs": [
    {
     "data": {
      "image/png": "[encoded data removed]",
      "text/plain": [
       "<Figure size 432x288 with 1 Axes>"
      ]
     },
     "metadata": {
      "needs_background": "light"
     },
     "output_type": "display_data"
    }
   ],
   "source": [
    "# stacked bar graph: gender vs provoked/not provoked \n",
    "gender = victim_df[['Type', 'Sex ']].copy()\n",
    "gender_df=pd.DataFrame(gender.value_counts().reset_index())\n",
    "gender_df.rename(columns={gender_df.columns[2]:\"Count\"}, inplace=True)\n",
    "counts=gender_df.value_counts()\n",
    "\n",
    "gender_stack=counts.to_frame().reset_index()\n",
    "#gender_stack.rename(columns={'0':'Count'})\n",
    "#gender_stack = gender_stack['Count'!=1]\n",
    "gender_df = gender_df.pivot(index='Sex ', columns='Type', values='Count')\n",
    "gender_df.plot.bar(stacked=True)\n",
    "plt.title(\"Shark Attacks: Gender vs Provocation\")\n",
    "plt.ylabel(\"Number of Attacks\")\n",
    "plt.xlabel(\"Gender\")\n",
    "plt.xticks(rotation = 45, ha=\"right\")\n",
    "plt.savefig('Gender_vs_Provoked.png',bbox_inches='tight')"
   ]
  },
  {
   "cell_type": "code",
   "execution_count": 18,
   "metadata": {},
   "outputs": [
    {
     "data": {
      "text/html": [
       "<div>\n",
       "<style scoped>\n",
       "    .dataframe tbody tr th:only-of-type {\n",
       "        vertical-align: middle;\n",
       "    }\n",
       "\n",
       "    .dataframe tbody tr th {\n",
       "        vertical-align: top;\n",
       "    }\n",
       "\n",
       "    .dataframe thead th {\n",
       "        text-align: right;\n",
       "    }\n",
       "</style>\n",
       "<table border=\"1\" class=\"dataframe\">\n",
       "  <thead>\n",
       "    <tr style=\"text-align: right;\">\n",
       "      <th></th>\n",
       "      <th>Type</th>\n",
       "      <th>Fatal (Y/N)</th>\n",
       "      <th>Count</th>\n",
       "    </tr>\n",
       "  </thead>\n",
       "  <tbody>\n",
       "    <tr>\n",
       "      <th>0</th>\n",
       "      <td>Unprovoked</td>\n",
       "      <td>N</td>\n",
       "      <td>2186</td>\n",
       "    </tr>\n",
       "    <tr>\n",
       "      <th>1</th>\n",
       "      <td>Unprovoked</td>\n",
       "      <td>Y</td>\n",
       "      <td>290</td>\n",
       "    </tr>\n",
       "    <tr>\n",
       "      <th>2</th>\n",
       "      <td>Provoked</td>\n",
       "      <td>N</td>\n",
       "      <td>225</td>\n",
       "    </tr>\n",
       "    <tr>\n",
       "      <th>3</th>\n",
       "      <td>Unknown</td>\n",
       "      <td>N</td>\n",
       "      <td>183</td>\n",
       "    </tr>\n",
       "    <tr>\n",
       "      <th>4</th>\n",
       "      <td>Unknown</td>\n",
       "      <td>Y</td>\n",
       "      <td>35</td>\n",
       "    </tr>\n",
       "    <tr>\n",
       "      <th>5</th>\n",
       "      <td>Unprovoked</td>\n",
       "      <td>Unknown</td>\n",
       "      <td>20</td>\n",
       "    </tr>\n",
       "    <tr>\n",
       "      <th>6</th>\n",
       "      <td>Provoked</td>\n",
       "      <td>Y</td>\n",
       "      <td>4</td>\n",
       "    </tr>\n",
       "    <tr>\n",
       "      <th>7</th>\n",
       "      <td>Provoked</td>\n",
       "      <td>Unknown</td>\n",
       "      <td>2</td>\n",
       "    </tr>\n",
       "  </tbody>\n",
       "</table>\n",
       "</div>"
      ],
      "text/plain": [
       "         Type Fatal (Y/N)  Count\n",
       "0  Unprovoked           N   2186\n",
       "1  Unprovoked           Y    290\n",
       "2    Provoked           N    225\n",
       "3     Unknown           N    183\n",
       "4     Unknown           Y     35\n",
       "5  Unprovoked     Unknown     20\n",
       "6    Provoked           Y      4\n",
       "7    Provoked     Unknown      2"
      ]
     },
     "execution_count": 18,
     "metadata": {},
     "output_type": "execute_result"
    }
   ],
   "source": [
    "# stacked bar graph: Injury vs provoked/Not provoked \n",
    "injury_stack = victim_df[['Type', 'Fatal (Y/N)']].copy()\n",
    "injury_stack_df=pd.DataFrame(injury_stack.value_counts().reset_index())\n",
    "injury_stack_df.rename(columns={injury_stack_df.columns[2]:\"Count\"}, inplace=True)\n",
    "\n",
    "#counts=injury_stack_df.value_counts()\n",
    "\n",
    "injury_stack_df \n"
   ]
  },
  {
   "cell_type": "code",
   "execution_count": 19,
   "metadata": {},
   "outputs": [
    {
     "data": {
      "image/png": "[encoded data removed]",
      "text/plain": [
       "<Figure size 432x288 with 1 Axes>"
      ]
     },
     "metadata": {
      "needs_background": "light"
     },
     "output_type": "display_data"
    }
   ],
   "source": [
    "#injury_stack_df=counts.to_frame().reset_index()\n",
    "injury_stack_df = injury_stack_df.pivot(index='Type', columns='Fatal (Y/N)', values='Count')\n",
    "injury_stack_df.plot.bar(stacked=True)\n",
    "plt.title(\"Shark Attacks: Provocation vs Fatality\")\n",
    "plt.ylabel(\"Number of Attacks\")\n",
    "plt.xticks(rotation = 45, ha=\"right\")\n",
    "plt.savefig('Fatality_vs_Provoked.png',bbox_inches='tight')"
   ]
  },
  {
   "cell_type": "code",
   "execution_count": 20,
   "metadata": {},
   "outputs": [
    {
     "data": {
      "image/png": "[encoded data removed]",
      "text/plain": [
       "<Figure size 432x288 with 1 Axes>"
      ]
     },
     "metadata": {
      "needs_background": "light"
     },
     "output_type": "display_data"
    }
   ],
   "source": [
    "#Bar graph: Injury severity\n",
    "injury_df=pd.DataFrame(victim_df['Injury'].value_counts())\n",
    "ax = injury_df.plot.bar()\n",
    "plt.xticks(rotation=45, ha='right')\n",
    "plt.title(\"Injury Severity\")\n",
    "plt.ylabel(\"Number of Attacks\")\n",
    "plt.savefig('Injury.png',bbox_inches='tight')"
   ]
  },
  {
   "cell_type": "code",
   "execution_count": 23,
   "metadata": {},
   "outputs": [
    {
     "ename": "TypeError",
     "evalue": "'<' not supported between instances of 'float' and 'str'",
     "output_type": "error",
     "traceback": [
      "\u001b[1;31m---------------------------------------------------------------------------\u001b[0m",
      "\u001b[1;31mTypeError\u001b[0m                                 Traceback (most recent call last)",
      "\u001b[1;32m<ipython-input-23-71648d9649e0>\u001b[0m in \u001b[0;36m<module>\u001b[1;34m\u001b[0m\n\u001b[0;32m      3\u001b[0m \u001b[0mages\u001b[0m \u001b[1;33m=\u001b[0m \u001b[1;33m[\u001b[0m\u001b[1;34m\"<12\"\u001b[0m\u001b[1;33m,\u001b[0m\u001b[1;34m\"13-19\"\u001b[0m\u001b[1;33m,\u001b[0m\u001b[1;34m\"20-29\"\u001b[0m\u001b[1;33m,\u001b[0m\u001b[1;34m\"30-39\"\u001b[0m\u001b[1;33m,\u001b[0m\u001b[1;34m\"40-49\"\u001b[0m\u001b[1;33m,\u001b[0m \u001b[1;34m\"50-60\"\u001b[0m\u001b[1;33m,\u001b[0m \u001b[1;34m\"60+\"\u001b[0m\u001b[1;33m]\u001b[0m\u001b[1;33m\u001b[0m\u001b[1;33m\u001b[0m\u001b[0m\n\u001b[0;32m      4\u001b[0m \u001b[1;33m\u001b[0m\u001b[0m\n\u001b[1;32m----> 5\u001b[1;33m \u001b[0mage_df\u001b[0m\u001b[1;33m[\u001b[0m\u001b[1;34m\"Age Summary\"\u001b[0m\u001b[1;33m]\u001b[0m\u001b[1;33m=\u001b[0m\u001b[0mpd\u001b[0m\u001b[1;33m.\u001b[0m\u001b[0mcut\u001b[0m\u001b[1;33m(\u001b[0m\u001b[0mvictim_df\u001b[0m\u001b[1;33m[\u001b[0m\u001b[1;34m'Age'\u001b[0m\u001b[1;33m]\u001b[0m\u001b[1;33m,\u001b[0m \u001b[0mbins\u001b[0m\u001b[1;33m,\u001b[0m \u001b[0mlabels\u001b[0m\u001b[1;33m=\u001b[0m\u001b[0mages\u001b[0m\u001b[1;33m)\u001b[0m\u001b[1;33m.\u001b[0m\u001b[0mgroupby\u001b[0m\u001b[1;33m(\u001b[0m\u001b[1;33m[\u001b[0m\u001b[1;34m'Age Summary'\u001b[0m\u001b[1;33m]\u001b[0m\u001b[1;33m)\u001b[0m\u001b[1;33m\u001b[0m\u001b[1;33m\u001b[0m\u001b[0m\n\u001b[0m\u001b[0;32m      6\u001b[0m \u001b[0mage_count\u001b[0m\u001b[1;33m=\u001b[0m\u001b[0mage_df\u001b[0m\u001b[1;33m.\u001b[0m\u001b[0mcount\u001b[0m\u001b[1;33m(\u001b[0m\u001b[1;33m)\u001b[0m\u001b[1;33m\u001b[0m\u001b[1;33m\u001b[0m\u001b[0m\n\u001b[0;32m      7\u001b[0m \u001b[1;33m\u001b[0m\u001b[0m\n",
      "\u001b[1;32m~\\anaconda3\\envs\\PythonData\\lib\\site-packages\\pandas\\core\\reshape\\tile.py\u001b[0m in \u001b[0;36mcut\u001b[1;34m(x, bins, right, labels, retbins, precision, include_lowest, duplicates, ordered)\u001b[0m\n\u001b[0;32m    271\u001b[0m             \u001b[1;32mraise\u001b[0m \u001b[0mValueError\u001b[0m\u001b[1;33m(\u001b[0m\u001b[1;34m\"bins must increase monotonically.\"\u001b[0m\u001b[1;33m)\u001b[0m\u001b[1;33m\u001b[0m\u001b[1;33m\u001b[0m\u001b[0m\n\u001b[0;32m    272\u001b[0m \u001b[1;33m\u001b[0m\u001b[0m\n\u001b[1;32m--> 273\u001b[1;33m     fac, bins = _bins_to_cuts(\n\u001b[0m\u001b[0;32m    274\u001b[0m         \u001b[0mx\u001b[0m\u001b[1;33m,\u001b[0m\u001b[1;33m\u001b[0m\u001b[1;33m\u001b[0m\u001b[0m\n\u001b[0;32m    275\u001b[0m         \u001b[0mbins\u001b[0m\u001b[1;33m,\u001b[0m\u001b[1;33m\u001b[0m\u001b[1;33m\u001b[0m\u001b[0m\n",
      "\u001b[1;32m~\\anaconda3\\envs\\PythonData\\lib\\site-packages\\pandas\\core\\reshape\\tile.py\u001b[0m in \u001b[0;36m_bins_to_cuts\u001b[1;34m(x, bins, right, labels, precision, include_lowest, dtype, duplicates, ordered)\u001b[0m\n\u001b[0;32m    405\u001b[0m \u001b[1;33m\u001b[0m\u001b[0m\n\u001b[0;32m    406\u001b[0m     \u001b[0mside\u001b[0m \u001b[1;33m=\u001b[0m \u001b[1;34m\"left\"\u001b[0m \u001b[1;32mif\u001b[0m \u001b[0mright\u001b[0m \u001b[1;32melse\u001b[0m \u001b[1;34m\"right\"\u001b[0m\u001b[1;33m\u001b[0m\u001b[1;33m\u001b[0m\u001b[0m\n\u001b[1;32m--> 407\u001b[1;33m     \u001b[0mids\u001b[0m \u001b[1;33m=\u001b[0m \u001b[0mensure_int64\u001b[0m\u001b[1;33m(\u001b[0m\u001b[0mbins\u001b[0m\u001b[1;33m.\u001b[0m\u001b[0msearchsorted\u001b[0m\u001b[1;33m(\u001b[0m\u001b[0mx\u001b[0m\u001b[1;33m,\u001b[0m \u001b[0mside\u001b[0m\u001b[1;33m=\u001b[0m\u001b[0mside\u001b[0m\u001b[1;33m)\u001b[0m\u001b[1;33m)\u001b[0m\u001b[1;33m\u001b[0m\u001b[1;33m\u001b[0m\u001b[0m\n\u001b[0m\u001b[0;32m    408\u001b[0m \u001b[1;33m\u001b[0m\u001b[0m\n\u001b[0;32m    409\u001b[0m     \u001b[1;32mif\u001b[0m \u001b[0minclude_lowest\u001b[0m\u001b[1;33m:\u001b[0m\u001b[1;33m\u001b[0m\u001b[1;33m\u001b[0m\u001b[0m\n",
      "\u001b[1;31mTypeError\u001b[0m: '<' not supported between instances of 'float' and 'str'"
     ]
    }
   ],
   "source": [
    "# ages to bins\n",
    "bins = [0, 12.9, 19.9, 29.9, 39.9, 49.9, 59.9, np.inf]\n",
    "ages = [\"<12\",\"13-19\",\"20-29\",\"30-39\",\"40-49\", \"50-60\", \"60+\"]\n",
    "\n",
    "age_df[\"Age Summary\"]=pd.cut(victim_df['Age'], bins, labels=ages).groupby(['Age Summary'])\n",
    "age_count=age_df.count()\n",
    "\n",
    "age_df=pd.DataFrame({'Count': age_count})\n",
    "\n",
    "age_df"
   ]
  },
  {
   "cell_type": "code",
   "execution_count": null,
   "metadata": {},
   "outputs": [],
   "source": [
    "# pie graph: age groups by fatality "
   ]
  }
 ],
 "metadata": {
  "kernelspec": {
   "display_name": "Python [conda env:PythonData] *",
   "language": "python",
   "name": "conda-env-PythonData-py"
  },
  "language_info": {
   "codemirror_mode": {
    "name": "ipython",
    "version": 3
   },
   "file_extension": ".py",
   "mimetype": "text/x-python",
   "name": "python",
   "nbconvert_exporter": "python",
   "pygments_lexer": "ipython3",
   "version": "3.8.5"
  }
 },
 "nbformat": 4,
 "nbformat_minor": 4
}
