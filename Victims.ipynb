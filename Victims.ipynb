{
 "cells": [
  {
   "cell_type": "code",
   "execution_count": 38,
   "metadata": {},
   "outputs": [],
   "source": [
    "# dependencies \n",
    "import pandas as pd\n",
    "import numpy as np\n",
    "import matplotlib.pyplot as plt\n",
    "import scipy.stats as st"
   ]
  },
  {
   "cell_type": "code",
   "execution_count": 55,
   "metadata": {},
   "outputs": [
    {
     "data": {
      "text/html": [
       "<div>\n",
       "<style scoped>\n",
       "    .dataframe tbody tr th:only-of-type {\n",
       "        vertical-align: middle;\n",
       "    }\n",
       "\n",
       "    .dataframe tbody tr th {\n",
       "        vertical-align: top;\n",
       "    }\n",
       "\n",
       "    .dataframe thead th {\n",
       "        text-align: right;\n",
       "    }\n",
       "</style>\n",
       "<table border=\"1\" class=\"dataframe\">\n",
       "  <thead>\n",
       "    <tr style=\"text-align: right;\">\n",
       "      <th></th>\n",
       "      <th>Attack Date</th>\n",
       "      <th>Year</th>\n",
       "      <th>Type</th>\n",
       "      <th>Country</th>\n",
       "      <th>Area</th>\n",
       "      <th>Location</th>\n",
       "      <th>Activity</th>\n",
       "      <th>Sex</th>\n",
       "      <th>Age</th>\n",
       "      <th>Injury</th>\n",
       "      <th>Fatal (Y/N)</th>\n",
       "      <th>Species</th>\n",
       "    </tr>\n",
       "  </thead>\n",
       "  <tbody>\n",
       "    <tr>\n",
       "      <th>0</th>\n",
       "      <td>6/25/2018</td>\n",
       "      <td>2018</td>\n",
       "      <td>Boating</td>\n",
       "      <td>USA</td>\n",
       "      <td>California</td>\n",
       "      <td>Oceanside, San Diego County</td>\n",
       "      <td>Paddling</td>\n",
       "      <td>F</td>\n",
       "      <td>57</td>\n",
       "      <td>No injury to occupant, outrigger canoe and pad...</td>\n",
       "      <td>N</td>\n",
       "      <td>White shark</td>\n",
       "    </tr>\n",
       "    <tr>\n",
       "      <th>1</th>\n",
       "      <td>6/18/2018</td>\n",
       "      <td>2018</td>\n",
       "      <td>Unprovoked</td>\n",
       "      <td>USA</td>\n",
       "      <td>Georgia</td>\n",
       "      <td>St. Simon Island, Glynn County</td>\n",
       "      <td>Standing</td>\n",
       "      <td>F</td>\n",
       "      <td>11</td>\n",
       "      <td>Minor injury to left thigh</td>\n",
       "      <td>N</td>\n",
       "      <td>NaN</td>\n",
       "    </tr>\n",
       "    <tr>\n",
       "      <th>2</th>\n",
       "      <td>6/9/2018</td>\n",
       "      <td>2018</td>\n",
       "      <td>Unknown</td>\n",
       "      <td>USA</td>\n",
       "      <td>Hawaii</td>\n",
       "      <td>Habush, Oahu</td>\n",
       "      <td>Surfing</td>\n",
       "      <td>M</td>\n",
       "      <td>48</td>\n",
       "      <td>Injury to left lower leg from surfboard skeg</td>\n",
       "      <td>N</td>\n",
       "      <td>NaN</td>\n",
       "    </tr>\n",
       "    <tr>\n",
       "      <th>3</th>\n",
       "      <td>6/8/2018</td>\n",
       "      <td>2018</td>\n",
       "      <td>Unprovoked</td>\n",
       "      <td>AUSTRALIA</td>\n",
       "      <td>New South Wales</td>\n",
       "      <td>Arrawarra Headland</td>\n",
       "      <td>Surfing</td>\n",
       "      <td>M</td>\n",
       "      <td>NaN</td>\n",
       "      <td>Minor injury to lower leg</td>\n",
       "      <td>N</td>\n",
       "      <td>2 m shark</td>\n",
       "    </tr>\n",
       "    <tr>\n",
       "      <th>4</th>\n",
       "      <td>6/4/2018</td>\n",
       "      <td>2018</td>\n",
       "      <td>Provoked</td>\n",
       "      <td>MEXICO</td>\n",
       "      <td>Colima</td>\n",
       "      <td>La Ticla</td>\n",
       "      <td>Diving</td>\n",
       "      <td>M</td>\n",
       "      <td>NaN</td>\n",
       "      <td>Lacerations to leg &amp; hand shark PROVOKED INCIDENT</td>\n",
       "      <td>N</td>\n",
       "      <td>Tiger shark, 3m</td>\n",
       "    </tr>\n",
       "  </tbody>\n",
       "</table>\n",
       "</div>"
      ],
      "text/plain": [
       "  Attack Date  Year        Type    Country             Area  \\\n",
       "0   6/25/2018  2018     Boating        USA       California   \n",
       "1   6/18/2018  2018  Unprovoked        USA          Georgia   \n",
       "2    6/9/2018  2018     Unknown        USA           Hawaii   \n",
       "3    6/8/2018  2018  Unprovoked  AUSTRALIA  New South Wales   \n",
       "4    6/4/2018  2018    Provoked     MEXICO           Colima   \n",
       "\n",
       "                         Location  Activity Sex   Age  \\\n",
       "0     Oceanside, San Diego County  Paddling    F   57   \n",
       "1  St. Simon Island, Glynn County  Standing    F   11   \n",
       "2                    Habush, Oahu   Surfing    M   48   \n",
       "3              Arrawarra Headland   Surfing    M  NaN   \n",
       "4                        La Ticla    Diving    M  NaN   \n",
       "\n",
       "                                              Injury Fatal (Y/N)  \\\n",
       "0  No injury to occupant, outrigger canoe and pad...           N   \n",
       "1                         Minor injury to left thigh           N   \n",
       "2       Injury to left lower leg from surfboard skeg           N   \n",
       "3                          Minor injury to lower leg           N   \n",
       "4  Lacerations to leg & hand shark PROVOKED INCIDENT           N   \n",
       "\n",
       "          Species   \n",
       "0      White shark  \n",
       "1              NaN  \n",
       "2              NaN  \n",
       "3        2 m shark  \n",
       "4  Tiger shark, 3m  "
      ]
     },
     "execution_count": 55,
     "metadata": {},
     "output_type": "execute_result"
    }
   ],
   "source": [
    "# read CSV file \n",
    "file_to_load = \"clean_sharks.csv\"\n",
    "victim_df = pd.read_csv(file_to_load)\n",
    "victim_df.head()"
   ]
  },
  {
   "cell_type": "code",
   "execution_count": 56,
   "metadata": {},
   "outputs": [
    {
     "data": {
      "text/plain": [
       "Unprovoked    2499\n",
       "Unknown        459\n",
       "Provoked       232\n",
       "Name: Type, dtype: int64"
      ]
     },
     "execution_count": 56,
     "metadata": {},
     "output_type": "execute_result"
    }
   ],
   "source": [
    "#clean up Type column\n",
    "victim_df.loc[victim_df['Type'].str.contains('Boating', na =False,case=False), 'Type'] = 'Unknown'\n",
    "victim_df.loc[victim_df['Type'].str.contains('Sea Disaster', na =False,case=False), 'Type'] = 'Unknown'\n",
    "victim_df['Type'].value_counts()"
   ]
  },
  {
   "cell_type": "markdown",
   "metadata": {},
   "source": [
    "\"Boating\" and \"Sea Disaster\" recategorized as \"unknown\" "
   ]
  },
  {
   "cell_type": "code",
   "execution_count": 57,
   "metadata": {},
   "outputs": [
    {
     "data": {
      "text/plain": [
       "N          2595\n",
       "Y           329\n",
       "Unknown      22\n",
       "Name: Fatal (Y/N), dtype: int64"
      ]
     },
     "execution_count": 57,
     "metadata": {},
     "output_type": "execute_result"
    }
   ],
   "source": [
    "#clean up Fatal column\n",
    "victim_df.loc[victim_df['Fatal (Y/N)'].str.contains('M', na =False,case=False), 'Fatal (Y/N)'] = 'Unknown'\n",
    "victim_df.loc[victim_df['Fatal (Y/N)'].str.contains('2017', na =False,case=False), 'Fatal (Y/N)'] = 'Unknown'\n",
    "victim_df.loc[victim_df['Fatal (Y/N)'].str.contains('UNKNOWN', na =False,case=False), 'Fatal (Y/N)'] = 'Unknown'\n",
    "victim_df['Fatal (Y/N)'].value_counts()"
   ]
  },
  {
   "cell_type": "markdown",
   "metadata": {},
   "source": [
    "\"2017\" and \"M\" recategorized as \"unknown"
   ]
  },
  {
   "cell_type": "code",
   "execution_count": 58,
   "metadata": {},
   "outputs": [
    {
     "data": {
      "text/plain": [
       "array(['57', '11', '48', nan, '18', '52', '15', '12', '32', '10', '21',\n",
       "       '34', '30', '60', '33', '29', '54', '41', '37', '56', '19', '25',\n",
       "       '69', '38', '55', '35', '46', '45', '14', '40s', '28', '20', '24',\n",
       "       '26', '49', '22', '7', '31', '17', '40', '13', '42', '3', '8',\n",
       "       '50', '16', '82', '73', '20s', '68', '51', '39', '58', 'Teen',\n",
       "       '47', '61', '65', '36', '66', '43', '60s', '9', '72', '59', '6',\n",
       "       '27', '64', '23', '71', '44', '62', '63', '70', '18 months', '53',\n",
       "       '30s', '50s', 'teen', '77', '74', '28 & 26', '5', '86', '18 or 20',\n",
       "       '12 or 13', '46 & 34', '28, 23 & 30', 'Teens', '36 & 26',\n",
       "       '8 or 10', '84', '� ', ' ', '30 or 36', '6�', '21 & ?', '75',\n",
       "       '33 or 37', 'mid-30s', '23 & 20', '7      &    31', '20?', \"60's\",\n",
       "       '32 & 30', '16 to 18', '87', '67', 'Elderly', 'mid-20s', 'Ca. 33',\n",
       "       '21 or 26'], dtype=object)"
      ]
     },
     "execution_count": 58,
     "metadata": {},
     "output_type": "execute_result"
    }
   ],
   "source": [
    "#view Age column\n",
    "victim_df[\"Age\"].unique()"
   ]
  },
  {
   "cell_type": "code",
   "execution_count": 101,
   "metadata": {},
   "outputs": [
    {
     "data": {
      "text/plain": [
       "None                 2415\n",
       "Severe                489\n",
       "Minor to Moderate     282\n",
       "Name: Injury, dtype: int64"
      ]
     },
     "execution_count": 101,
     "metadata": {},
     "output_type": "execute_result"
    }
   ],
   "source": [
    "#clean injury column\n",
    "victim_df.loc[victim_df['Injury'].str.contains('Severed', na =False,case=False), 'Injury'] = 'Severe'\n",
    "victim_df.loc[victim_df['Injury'].str.contains('Fatal', na =False,case=False), 'Injury'] = 'Severe'\n",
    "victim_df.loc[victim_df['Injury'].str.contains('Fracture', na =False,case=False), 'Injury'] = 'Severe'\n",
    "victim_df.loc[victim_df['Injury'].str.contains('scaveng', na =False,case=False), 'Injury'] = 'Severe'\n",
    "victim_df.loc[victim_df['Injury'].str.contains('death', na =False,case=False), 'Injury'] = 'Severe'\n",
    "victim_df.loc[victim_df['Injury'].str.contains('serious', na =False,case=False), 'Injury'] = 'Severe'\n",
    "victim_df.loc[victim_df['Injury'].str.contains('severe', na =False,case=False), 'Injury'] = 'Severe'\n",
    "victim_df.loc[victim_df['Injury'].str.contains('disappear', na =False,case=False), 'Injury'] = 'Severe'\n",
    "victim_df.loc[victim_df['Injury'].str.contains('decapitated', na =False,case=False), 'Injury'] = 'Severe'\n",
    "victim_df.loc[victim_df['Injury'].str.contains('corpse', na =False,case=False), 'Injury'] = 'Severe'\n",
    "victim_df.loc[victim_df['Injury'].str.contains('post-mortem', na =False,case=False), 'Injury'] = 'Severe'\n",
    "victim_df.loc[victim_df['Injury'].str.contains('recovered from', na =False,case=False), 'Injury'] = 'Severe'\n",
    "victim_df.loc[victim_df['Injury'].str.contains('missing', na =False,case=False), 'Injury'] = 'Severe'\n",
    "victim_df.loc[victim_df['Injury'].str.contains('drown', na =False,case=False), 'Injury'] = 'Severe'\n",
    "victim_df.loc[victim_df['Injury'].str.contains('swept out to sea', na =False,case=False), 'Injury'] = 'Severe'\n",
    "victim_df.loc[victim_df['Injury'].str.contains('found', na =False,case=False), 'Injury'] = 'Severe'\n",
    "victim_df.loc[victim_df['Injury'].str.contains('removed', na =False,case=False), 'Injury'] = 'Severe'\n",
    "victim_df.loc[victim_df['Injury'].str.contains('remains', na =False,case=False), 'Injury'] = 'Severe'\n",
    "victim_df.loc[victim_df['Injury'].str.contains('broken ribs', na =False,case=False), 'Injury'] = 'Severe'\n",
    "victim_df.loc[victim_df['Injury'].str.contains('killed', na =False,case=False), 'Injury'] = 'Severe'\n",
    "victim_df.loc[victim_df['Injury'].str.contains('lost', na =False,case=False), 'Injury'] = 'Severe'\n",
    "victim_df.loc[victim_df['Injury'].str.contains('amputat', na =False,case=False), 'Injury'] = 'Severe'\n",
    "victim_df.loc[victim_df['Injury'].str.contains('recovered', na =False,case=False), 'Injury'] = 'Severe'\n",
    "victim_df.loc[victim_df['Injury'].str.contains('taken', na =False,case=False), 'Injury'] = 'Severe'\n",
    "victim_df.loc[victim_df['Injury'].str.contains('massive', na =False,case=False), 'Injury'] = 'Severe'\n",
    "victim_df.loc[victim_df['Injury'].str.contains('cracked', na =False,case=False), 'Injury'] = 'Severe'\n",
    "\n",
    "victim_df.loc[victim_df['Injury'].str.contains('Minor', na =False,case=False), 'Injury'] = 'Minor to Moderate'\n",
    "victim_df.loc[victim_df['Injury'].str.contains('puncture', na =False,case=False), 'Injury'] = 'Minor to Moderate'\n",
    "victim_df.loc[victim_df['Injury'].str.contains('superfic', na =False,case=False), 'Injury'] = 'Minor to Moderate'\n",
    "victim_df.loc[victim_df['Injury'].str.contains('lacerat', na =False,case=False), 'Injury'] = 'Minor to Moderate'\n",
    "victim_df.loc[victim_df['Injury'].str.contains('nipped', na =False,case=False), 'Injury'] = 'Minor to Moderate'\n",
    "victim_df.loc[victim_df['Injury'].str.contains('bitten', na =False,case=False), 'Injury'] = 'Minor to Moderate'\n",
    "victim_df.loc[victim_df['Injury'].str.contains('cuts', na =False,case=False), 'Injury'] = 'Minor to Moderate'\n",
    "victim_df.loc[victim_df['Injury'].str.contains('abraded', na =False,case=False), 'Injury'] = 'Minor to Moderate'\n",
    "victim_df.loc[victim_df['Injury'].str.contains('injur', na =False,case=False), 'Injury'] = 'Minor to Moderate'\n",
    "victim_df.loc[victim_df['Injury'].str.contains('wound', na =False,case=False), 'Injury'] = 'Minor to Moderate'\n",
    "victim_df.loc[victim_df['Injury'].str.contains('bit', na =False,case=False), 'Injury'] = 'Minor to Moderate'\n",
    "victim_df.loc[victim_df['Injury'].str.contains('cut', na =False,case=False), 'Injury'] = 'Minor to Moderate'\n",
    "victim_df.loc[victim_df['Injury'].str.contains('torn', na =False,case=False), 'Injury'] = 'Minor to Moderate'\n",
    "victim_df.loc[victim_df['Injury'].str.contains('abrasion', na =False,case=False), 'Injury'] = 'Minor to Moderate'\n",
    "victim_df.loc[victim_df['Injury'].str.contains('bruised', na =False,case=False), 'Injury'] = 'Minor to Moderate'\n",
    "victim_df.loc[victim_df['Injury'].str.contains('survived', na =False,case=False), 'Injury'] = 'Minor to Moderate'\n",
    "victim_df.loc[victim_df['Injury'].str.contains('bumped', na =False,case=False), 'Injury'] = 'Minor to Moderate'\n",
    "victim_df.loc[victim_df['Injury'].str.contains('pull', na =False,case=False), 'Injury'] = 'Minor to Moderate'\n",
    "victim_df.loc[victim_df['Injury'].str.contains('gash', na =False,case=False), 'Injury'] = 'Minor to Moderate'\n",
    "victim_df.loc[victim_df['Injury'].str.contains('bruise', na =False,case=False), 'Injury'] = 'Minor to Moderate'\n",
    "victim_df.loc[victim_df['Injury'].str.contains('grab', na =False,case=False), 'Injury'] = 'Minor to Moderate'\n",
    "victim_df.loc[victim_df['Injury'].str.contains('struck', na =False,case=False), 'Injury'] = 'Minor to Moderate'\n",
    "victim_df.loc[victim_df['Injury'].str.contains('avulsion', na =False,case=False), 'Injury'] = 'Minor to Moderate'\n",
    "victim_df.loc[victim_df['Injury'].str.contains('nip', na =False,case=False), 'Injury'] = 'Minor to Moderate'\n",
    "victim_df.loc[victim_df['Injury'].str.contains('graze', na =False,case=False), 'Injury'] = 'Minor to Moderate'\n",
    "victim_df.loc[victim_df['Injury'].str.contains('avulsed', na =False,case=False), 'Injury'] = 'Minor to Moderate'\n",
    "victim_df.loc[victim_df['Injury'].str.contains('scratch', na =False,case=False), 'Injury'] = 'Minor to Moderate'\n",
    "victim_df.loc[victim_df['Injury'].str.contains('scrape', na =False,case=False), 'Injury'] = 'Minor to Moderate'\n",
    "victim_df.loc[victim_df['Injury'].str.contains('thigh', na =False,case=False), 'Injury'] = 'Minor to Moderate'\n",
    "victim_df.loc[victim_df['Injury'].str.contains('toothmarks', na =False,case=False), 'Injury'] = 'Minor to Moderate'\n",
    "victim_df.loc[victim_df['Injury'].str.contains('heel', na =False,case=False), 'Injury'] = 'Minor to Moderate'\n",
    "victim_df.loc[victim_df['Injury'].str.contains('pinch', na =False,case=False), 'Injury'] = 'Minor to Moderate'\n",
    "victim_df.loc[victim_df['Injury'].str.contains('tooth mark', na =False,case=False), 'Injury'] = 'Minor to Moderate'\n",
    "victim_df.loc[victim_df['Injury'].str.contains('ankle', na =False,case=False), 'Injury'] = 'Minor to Moderate'\n",
    "victim_df.loc[victim_df['Injury'].str.contains('contusion', na =False,case=False), 'Injury'] = 'Minor to Moderate'\n",
    "victim_df.loc[victim_df['Injury'].str.contains('provoked', na =False,case=False), 'Injury'] = 'Minor to Moderate'\n",
    "\n",
    "victim_df.loc[victim_df['Injury'].str.contains('doubtful', na =False,case=False), 'Injury'] = 'None'\n",
    "victim_df.loc[victim_df['Injury'].str.contains('unconfirmed', na =False,case=False), 'Injury'] = 'None'\n",
    "victim_df.loc[victim_df['Injury'].str.contains('boat', na =False,case=False), 'Injury'] = 'None'\n",
    "victim_df.loc[victim_df['Injury'].str.contains('rammed', na =False,case=False), 'Injury'] = 'None'\n",
    "victim_df.loc[victim_df['Injury'].str.contains('hoax', na =False,case=False), 'Injury'] = 'None'\n",
    "victim_df.loc[victim_df['Injury'].str.contains('board', na =False,case=False), 'Injury'] = 'None'\n",
    "victim_df.loc[victim_df['Injury'].str.contains('media', na =False,case=False), 'Injury'] = 'None'\n",
    "victim_df.loc[victim_df['Injury'].str.contains('press', na =False,case=False), 'Injury'] = 'None'\n",
    "\n",
    "victim_df[\"Injury\"].value_counts()"
   ]
  },
  {
   "cell_type": "markdown",
   "metadata": {},
   "source": [
    "Grouped injuries into 3 groups: None, Severe, and Minor to Moderate. Severe is defined as broken bones, missing limbs, loss of life. Mild to Moderate is all other injuries. None is no injuries reported, spectulation, or media involvement without facts. "
   ]
  },
  {
   "cell_type": "code",
   "execution_count": 60,
   "metadata": {
    "scrolled": true
   },
   "outputs": [
    {
     "data": {
      "text/plain": [
       "M          2513\n",
       "F           466\n",
       "Unknown       1\n",
       "Name: Sex , dtype: int64"
      ]
     },
     "execution_count": 60,
     "metadata": {},
     "output_type": "execute_result"
    }
   ],
   "source": [
    "#clean up Sex Column\n",
    "victim_df.loc[victim_df['Sex '].str.contains('lli', na =False,case=False), 'Sex '] = 'Unknown'\n",
    "victim_df.loc[victim_df['Sex '].str.contains('M ', na =False,case=False), 'Sex '] = 'M'\n",
    "victim_df['Sex '].value_counts()"
   ]
  },
  {
   "cell_type": "markdown",
   "metadata": {},
   "source": [
    "Changed \"lli\" to unknown. Defination of lli in relation to gender was unable to be found through multiple searches. "
   ]
  },
  {
   "cell_type": "code",
   "execution_count": 61,
   "metadata": {},
   "outputs": [
    {
     "data": {
      "text/plain": [
       "Surfing                                   1104\n",
       "Swimming                                   577\n",
       "Fishing (fish, shrimp, lobster, crabs)     524\n",
       "Diving                                     224\n",
       "On Shore (wading, walking, sitting)        201\n",
       "Boarding (Boogie, Paddle, Body, SUP)       164\n",
       "Unknown                                     54\n",
       "Accident                                    48\n",
       "Boating (canoe, cruise, row)                46\n",
       "Interacting with Shark                      41\n",
       "Disaster                                    41\n",
       "Kayaking                                    37\n",
       "                                             1\n",
       "Name: Activity, dtype: int64"
      ]
     },
     "execution_count": 61,
     "metadata": {},
     "output_type": "execute_result"
    }
   ],
   "source": [
    "# clean up Activity Column\n",
    "victim_df.loc[victim_df['Activity'].str.contains('Float', na =False,case=False), 'Activity'] = 'Swimming'\n",
    "victim_df.loc[victim_df['Activity'].str.contains('Snork', na =False,case=False), 'Activity'] = 'Swimming'\n",
    "victim_df.loc[victim_df['Activity'].str.contains('tread', na =False,case=False), 'Activity'] = 'Swimming'\n",
    "victim_df.loc[victim_df['Activity'].str.contains('waist', na =False,case=False), 'Activity'] = 'Swimming'\n",
    "\n",
    "victim_df.loc[victim_df['Activity'].str.contains('Dive', na =False,case=False), 'Activity'] = 'Diving'\n",
    "\n",
    "victim_df.loc[victim_df['Activity'].str.contains('sup', na =False,case=False), 'Activity'] = 'Boarding (Boogie, Paddle, Body, SUP)'\n",
    "victim_df.loc[victim_df['Activity'].str.contains('paddl', na =False,case=False), 'Activity'] = 'Boarding (Boogie, Paddle, Body, SUP)'\n",
    "\n",
    "victim_df.loc[victim_df['Activity'].str.contains('Kayak', na =False,case=False), 'Activity'] = 'Kayaking'\n",
    "\n",
    "victim_df.loc[victim_df['Activity'].str.contains('Ski', na =False,case=False), 'Activity'] = 'Boating (canoe, cruise, row)'\n",
    "victim_df.loc[victim_df['Activity'].str.contains('Boat', na =False,case=False), 'Activity'] = 'Boating (canoe, cruise, row)'\n",
    "\n",
    "victim_df.loc[victim_df['Activity'].str.contains('Row', na =False,case=False), 'Activity'] = 'Boating (canoe, cruise, row)'\n",
    "victim_df.loc[victim_df['Activity'].str.contains('sail', na =False,case=False), 'Activity'] = 'Boating (canoe, cruise, row)'\n",
    "victim_df.loc[victim_df['Activity'].str.contains('cruise', na =False,case=False), 'Activity'] = 'Boating (canoe, cruise, row)'\n",
    "victim_df.loc[victim_df['Activity'].str.contains('dinghy', na =False,case=False), 'Activity'] = 'Boating (canoe, cruise, row)'\n",
    "victim_df.loc[victim_df['Activity'].str.contains('canoe', na =False,case=False), 'Activity'] = 'Boating (canoe, cruise, row)'\n",
    "\n",
    "victim_df.loc[victim_df['Activity'].str.contains('rac', na =False,case=False), 'Activity'] = 'Competition'\n",
    "victim_df.loc[victim_df['Activity'].str.contains('compet', na =False,case=False), 'Activity'] = 'Competition'\n",
    "\n",
    "victim_df.loc[victim_df['Activity'].str.contains('Rescue', na =False,case=False), 'Activity'] = 'Accident'\n",
    "victim_df.loc[victim_df['Activity'].str.contains('Feeding', na =False,case=False), 'Activity'] = 'Accident'\n",
    "victim_df.loc[victim_df['Activity'].str.contains('Free', na =False,case=False), 'Activity'] = 'Accident'\n",
    "victim_df.loc[victim_df['Activity'].str.contains('Play', na =False,case=False), 'Activity'] = 'Accident'\n",
    "victim_df.loc[victim_df['Activity'].str.contains('jump', na =False,case=False), 'Activity'] = 'Accident'\n",
    "victim_df.loc[victim_df['Activity'].str.contains('film', na =False,case=False), 'Activity'] = 'Accident'\n",
    "victim_df.loc[victim_df['Activity'].str.contains('research', na =False,case=False), 'Activity'] = 'Accident'\n",
    "victim_df.loc[victim_df['Activity'].str.contains('anchor', na =False,case=False), 'Activity'] = 'Accident'\n",
    "victim_df.loc[victim_df['Activity'].str.contains('drill', na =False,case=False), 'Activity'] = 'Accident'\n",
    "victim_df.loc[victim_df['Activity'].str.contains('fell', na =False,case=False), 'Activity'] = 'Accident'\n",
    "victim_df.loc[victim_df['Activity'].str.contains('retri', na =False,case=False), 'Activity'] = 'Accident'\n",
    "victim_df.loc[victim_df['Activity'].str.contains('fix', na =False,case=False), 'Activity'] = 'Accident'\n",
    "victim_df.loc[victim_df['Activity'].str.contains('rescuing', na =False,case=False), 'Activity'] = 'Accident'\n",
    "\n",
    "victim_df.loc[victim_df['Activity'].str.contains('Disaster', na =False,case=False), 'Activity'] = 'Disaster'\n",
    "victim_df.loc[victim_df['Activity'].str.contains('tsunami', na =False,case=False), 'Activity'] = 'Disaster'\n",
    "victim_df.loc[victim_df['Activity'].str.contains('capsi', na =False,case=False), 'Activity'] = 'Disaster'\n",
    "victim_df.loc[victim_df['Activity'].str.contains('plung', na =False,case=False), 'Activity'] = 'Disaster'\n",
    "victim_df.loc[victim_df['Activity'].str.contains('adrift', na =False,case=False), 'Activity'] = 'Disaster'\n",
    "victim_df.loc[victim_df['Activity'].str.contains('murder', na =False,case=False), 'Activity'] = 'Disaster'\n",
    "victim_df.loc[victim_df['Activity'].str.contains('sank', na =False,case=False), 'Activity'] = 'Disaster'\n",
    "victim_df.loc[victim_df['Activity'].str.contains('passenger', na =False,case=False), 'Activity'] = 'Disaster'\n",
    "victim_df.loc[victim_df['Activity'].str.contains('sink', na =False,case=False), 'Activity'] = 'Disaster'\n",
    "victim_df.loc[victim_df['Activity'].str.contains('run down', na =False,case=False), 'Activity'] = 'Disaster'\n",
    "victim_df.loc[victim_df['Activity'].str.contains('aircraft', na =False,case=False), 'Activity'] = 'Disaster'\n",
    "victim_df.loc[victim_df['Activity'].str.contains('wreck', na =False,case=False), 'Activity'] = 'Disaster'\n",
    "victim_df.loc[victim_df['Activity'].str.contains('foundering', na =False,case=False), 'Activity'] = 'Disaster'\n",
    "victim_df.loc[victim_df['Activity'].str.contains('illegal', na =False,case=False), 'Activity'] = 'Disaster'\n",
    "\n",
    "victim_df.loc[victim_df['Activity'].str.contains('pet', na =False,case=False), 'Activity'] = 'Interacting with Shark'\n",
    "victim_df.loc[victim_df['Activity'].str.contains('Rescue', na =False,case=False), 'Activity'] = 'Interacting with Shark'\n",
    "victim_df.loc[victim_df['Activity'].str.contains('shark', na =False,case=False), 'Activity'] = 'Interacting with Shark'\n",
    "victim_df.loc[victim_df['Activity'].str.contains('NSB', na =False,case=False), 'Activity'] = 'Interacting with Shark'\n",
    "\n",
    "victim_df.loc[victim_df['Activity'].str.contains('crab', na =False,case=False), 'Activity'] = 'Fishing (fish, lobster, crabs)'\n",
    "victim_df.loc[victim_df['Activity'].str.contains('shrimp', na =False,case=False), 'Activity'] = 'Fishing (fish, shrimp, lobster, crabs)'\n",
    "victim_df.loc[victim_df['Activity'].str.contains('sardines', na =False,case=False), 'Activity'] = 'Fishing (fish, shrimp, lobster, crabs)'\n",
    "victim_df.loc[victim_df['Activity'].str.contains('lobster', na =False,case=False), 'Activity'] = 'Fishing (fish, shrimp, lobster, crabs)'\n",
    "victim_df.loc[victim_df['Activity'].str.contains('bichiques', na =False,case=False), 'Activity'] = 'Fishing (fish, shrimp, lobster, crabs)'\n",
    "victim_df.loc[victim_df['Activity'].str.contains('catch', na =False,case=False), 'Activity'] = 'Fishing (fish, shrimp, lobster, crabs)'\n",
    "victim_df.loc[victim_df['Activity'].str.contains('casting', na =False,case=False), 'Activity'] = 'Fishing (fish, shrimp, lobster, crabs)'\n",
    "victim_df.loc[victim_df['Activity'].str.contains('fishing', na =False,case=False), 'Activity'] = 'Fishing (fish, shrimp, lobster, crabs)'\n",
    "\n",
    "victim_df.loc[victim_df['Activity'].str.contains('stand', na =False,case=False), 'Activity'] = 'On Shore (wading, walking, sitting)'\n",
    "victim_df.loc[victim_df['Activity'].str.contains('walk', na =False,case=False), 'Activity'] = 'On Shore (wading, walking, sitting)'\n",
    "victim_df.loc[victim_df['Activity'].str.contains('stam', na =False,case=False), 'Activity'] = 'On Shore (wading, walking, sitting)'\n",
    "victim_df.loc[victim_df['Activity'].str.contains('wash', na =False,case=False), 'Activity'] = 'On Shore (wading, walking, sitting)'\n",
    "victim_df.loc[victim_df['Activity'].str.contains('collect', na =False,case=False), 'Activity'] = 'On Shore (wading, walking, sitting)'\n",
    "victim_df.loc[victim_df['Activity'].str.contains('wading', na =False,case=False), 'Activity'] = 'On Shore (wading, walking, sitting)'\n",
    "victim_df.loc[victim_df['Activity'].str.contains('bath', na =False,case=False), 'Activity'] = 'On Shore (wading, walking, sitting)'\n",
    "victim_df.loc[victim_df['Activity'].str.contains('sit', na =False,case=False), 'Activity'] = 'On Shore (wading, walking, sitting)'\n",
    "victim_df.loc[victim_df['Activity'].str.contains('crouch', na =False,case=False), 'Activity'] = 'On Shore (wading, walking, sitting)'\n",
    "victim_df.loc[victim_df['Activity'].str.contains('crawl', na =False,case=False), 'Activity'] = 'On Shore (wading, walking, sitting)'\n",
    "victim_df.loc[victim_df['Activity'].str.contains('hiking', na =False,case=False), 'Activity'] = 'On Shore (wading, walking, sitting)'\n",
    "victim_df.loc[victim_df['Activity'].str.contains('watch', na =False,case=False), 'Activity'] = 'On Shore (wading, walking, sitting)'\n",
    "victim_df.loc[victim_df['Activity'].str.contains('exercis', na =False,case=False), 'Activity'] = 'On Shore (wading, walking, sitting)'\n",
    "victim_df.loc[victim_df['Activity'].str.contains('splash', na =False,case=False), 'Activity'] = 'On Shore (wading, walking, sitting)'\n",
    "victim_df.loc[victim_df['Activity'].str.contains('photo', na =False,case=False), 'Activity'] = 'On Shore (wading, walking, sitting)'\n",
    "victim_df.loc[victim_df['Activity'].str.contains('prone', na =False,case=False), 'Activity'] = 'On Shore (wading, walking, sitting)'\n",
    "victim_df.loc[victim_df['Activity'].str.contains('kneel', na =False,case=False), 'Activity'] = 'On Shore (wading, walking, sitting)'\n",
    "\n",
    "victim_df.loc[victim_df['Activity'].str.contains('Kakaying', na =False,case=False), 'Activity'] = 'Kayaking'\n",
    "\n",
    "victim_df.loc[victim_df['Activity'].str.contains('batin', na =False,case=False), 'Activity'] = 'Unknown'\n",
    "victim_df.loc[victim_df['Activity'].str.contains('cruising', na =False,case=False), 'Activity'] = 'Unknown'\n",
    "\n",
    "victim_df['Activity'].value_counts()"
   ]
  },
  {
   "cell_type": "markdown",
   "metadata": {},
   "source": [
    "All activities grouped together by main intention. Accidents relates to unintential accidents while disasters relate to weather, wrecks, and human intent to cause harm. Batin and Cruising are grouped in Unknown as these have many definations and context is unknown. "
   ]
  },
  {
   "cell_type": "code",
   "execution_count": 67,
   "metadata": {},
   "outputs": [
    {
     "ename": "ValueError",
     "evalue": "The number of FixedLocator locations (13), usually from a call to set_ticks, does not match the number of ticklabels (3192).",
     "output_type": "error",
     "traceback": [
      "\u001b[1;31m---------------------------------------------------------------------------\u001b[0m",
      "\u001b[1;31mValueError\u001b[0m                                Traceback (most recent call last)",
      "\u001b[1;32m<ipython-input-67-6dd386db3d34>\u001b[0m in \u001b[0;36m<module>\u001b[1;34m\u001b[0m\n\u001b[0;32m      4\u001b[0m \u001b[1;33m\u001b[0m\u001b[0m\n\u001b[0;32m      5\u001b[0m \u001b[0mtick_locations\u001b[0m \u001b[1;33m=\u001b[0m \u001b[1;33m[\u001b[0m\u001b[0mvalue\u001b[0m \u001b[1;32mfor\u001b[0m \u001b[0mvalue\u001b[0m \u001b[1;32min\u001b[0m \u001b[0mx_axis\u001b[0m\u001b[1;33m]\u001b[0m\u001b[1;33m\u001b[0m\u001b[1;33m\u001b[0m\u001b[0m\n\u001b[1;32m----> 6\u001b[1;33m \u001b[0mplt\u001b[0m\u001b[1;33m.\u001b[0m\u001b[0mxticks\u001b[0m\u001b[1;33m(\u001b[0m\u001b[0mtick_locations\u001b[0m\u001b[1;33m,\u001b[0m \u001b[0mactivity\u001b[0m\u001b[1;33m)\u001b[0m\u001b[1;33m\u001b[0m\u001b[1;33m\u001b[0m\u001b[0m\n\u001b[0m\u001b[0;32m      7\u001b[0m \u001b[1;33m\u001b[0m\u001b[0m\n\u001b[0;32m      8\u001b[0m \u001b[0mplt\u001b[0m\u001b[1;33m.\u001b[0m\u001b[0mtitle\u001b[0m\u001b[1;33m(\u001b[0m\u001b[1;34m\"Attacks by Activity since 1975\"\u001b[0m\u001b[1;33m)\u001b[0m\u001b[1;33m\u001b[0m\u001b[1;33m\u001b[0m\u001b[0m\n",
      "\u001b[1;32m~\\AppData\\Roaming\\Python\\Python38\\site-packages\\matplotlib\\pyplot.py\u001b[0m in \u001b[0;36mxticks\u001b[1;34m(ticks, labels, **kwargs)\u001b[0m\n\u001b[0;32m   1812\u001b[0m         \u001b[0mlabels\u001b[0m \u001b[1;33m=\u001b[0m \u001b[0max\u001b[0m\u001b[1;33m.\u001b[0m\u001b[0mget_xticklabels\u001b[0m\u001b[1;33m(\u001b[0m\u001b[1;33m)\u001b[0m\u001b[1;33m\u001b[0m\u001b[1;33m\u001b[0m\u001b[0m\n\u001b[0;32m   1813\u001b[0m     \u001b[1;32melse\u001b[0m\u001b[1;33m:\u001b[0m\u001b[1;33m\u001b[0m\u001b[1;33m\u001b[0m\u001b[0m\n\u001b[1;32m-> 1814\u001b[1;33m         \u001b[0mlabels\u001b[0m \u001b[1;33m=\u001b[0m \u001b[0max\u001b[0m\u001b[1;33m.\u001b[0m\u001b[0mset_xticklabels\u001b[0m\u001b[1;33m(\u001b[0m\u001b[0mlabels\u001b[0m\u001b[1;33m,\u001b[0m \u001b[1;33m**\u001b[0m\u001b[0mkwargs\u001b[0m\u001b[1;33m)\u001b[0m\u001b[1;33m\u001b[0m\u001b[1;33m\u001b[0m\u001b[0m\n\u001b[0m\u001b[0;32m   1815\u001b[0m     \u001b[1;32mfor\u001b[0m \u001b[0ml\u001b[0m \u001b[1;32min\u001b[0m \u001b[0mlabels\u001b[0m\u001b[1;33m:\u001b[0m\u001b[1;33m\u001b[0m\u001b[1;33m\u001b[0m\u001b[0m\n\u001b[0;32m   1816\u001b[0m         \u001b[0ml\u001b[0m\u001b[1;33m.\u001b[0m\u001b[0mupdate\u001b[0m\u001b[1;33m(\u001b[0m\u001b[0mkwargs\u001b[0m\u001b[1;33m)\u001b[0m\u001b[1;33m\u001b[0m\u001b[1;33m\u001b[0m\u001b[0m\n",
      "\u001b[1;32m~\\AppData\\Roaming\\Python\\Python38\\site-packages\\matplotlib\\axes\\_base.py\u001b[0m in \u001b[0;36mwrapper\u001b[1;34m(self, *args, **kwargs)\u001b[0m\n\u001b[0;32m     71\u001b[0m \u001b[1;33m\u001b[0m\u001b[0m\n\u001b[0;32m     72\u001b[0m         \u001b[1;32mdef\u001b[0m \u001b[0mwrapper\u001b[0m\u001b[1;33m(\u001b[0m\u001b[0mself\u001b[0m\u001b[1;33m,\u001b[0m \u001b[1;33m*\u001b[0m\u001b[0margs\u001b[0m\u001b[1;33m,\u001b[0m \u001b[1;33m**\u001b[0m\u001b[0mkwargs\u001b[0m\u001b[1;33m)\u001b[0m\u001b[1;33m:\u001b[0m\u001b[1;33m\u001b[0m\u001b[1;33m\u001b[0m\u001b[0m\n\u001b[1;32m---> 73\u001b[1;33m             \u001b[1;32mreturn\u001b[0m \u001b[0mget_method\u001b[0m\u001b[1;33m(\u001b[0m\u001b[0mself\u001b[0m\u001b[1;33m)\u001b[0m\u001b[1;33m(\u001b[0m\u001b[1;33m*\u001b[0m\u001b[0margs\u001b[0m\u001b[1;33m,\u001b[0m \u001b[1;33m**\u001b[0m\u001b[0mkwargs\u001b[0m\u001b[1;33m)\u001b[0m\u001b[1;33m\u001b[0m\u001b[1;33m\u001b[0m\u001b[0m\n\u001b[0m\u001b[0;32m     74\u001b[0m \u001b[1;33m\u001b[0m\u001b[0m\n\u001b[0;32m     75\u001b[0m         \u001b[0mwrapper\u001b[0m\u001b[1;33m.\u001b[0m\u001b[0m__module__\u001b[0m \u001b[1;33m=\u001b[0m \u001b[0mowner\u001b[0m\u001b[1;33m.\u001b[0m\u001b[0m__module__\u001b[0m\u001b[1;33m\u001b[0m\u001b[1;33m\u001b[0m\u001b[0m\n",
      "\u001b[1;32m~\\AppData\\Roaming\\Python\\Python38\\site-packages\\matplotlib\\_api\\deprecation.py\u001b[0m in \u001b[0;36mwrapper\u001b[1;34m(*args, **kwargs)\u001b[0m\n\u001b[0;32m    469\u001b[0m                 \u001b[1;34m\"parameter will become keyword-only %(removal)s.\"\u001b[0m\u001b[1;33m,\u001b[0m\u001b[1;33m\u001b[0m\u001b[1;33m\u001b[0m\u001b[0m\n\u001b[0;32m    470\u001b[0m                 name=name, obj_type=f\"parameter of {func.__name__}()\")\n\u001b[1;32m--> 471\u001b[1;33m         \u001b[1;32mreturn\u001b[0m \u001b[0mfunc\u001b[0m\u001b[1;33m(\u001b[0m\u001b[1;33m*\u001b[0m\u001b[0margs\u001b[0m\u001b[1;33m,\u001b[0m \u001b[1;33m**\u001b[0m\u001b[0mkwargs\u001b[0m\u001b[1;33m)\u001b[0m\u001b[1;33m\u001b[0m\u001b[1;33m\u001b[0m\u001b[0m\n\u001b[0m\u001b[0;32m    472\u001b[0m \u001b[1;33m\u001b[0m\u001b[0m\n\u001b[0;32m    473\u001b[0m     \u001b[1;32mreturn\u001b[0m \u001b[0mwrapper\u001b[0m\u001b[1;33m\u001b[0m\u001b[1;33m\u001b[0m\u001b[0m\n",
      "\u001b[1;32m~\\AppData\\Roaming\\Python\\Python38\\site-packages\\matplotlib\\axis.py\u001b[0m in \u001b[0;36m_set_ticklabels\u001b[1;34m(self, labels, fontdict, minor, **kwargs)\u001b[0m\n\u001b[0;32m   1788\u001b[0m         \u001b[1;32mif\u001b[0m \u001b[0mfontdict\u001b[0m \u001b[1;32mis\u001b[0m \u001b[1;32mnot\u001b[0m \u001b[1;32mNone\u001b[0m\u001b[1;33m:\u001b[0m\u001b[1;33m\u001b[0m\u001b[1;33m\u001b[0m\u001b[0m\n\u001b[0;32m   1789\u001b[0m             \u001b[0mkwargs\u001b[0m\u001b[1;33m.\u001b[0m\u001b[0mupdate\u001b[0m\u001b[1;33m(\u001b[0m\u001b[0mfontdict\u001b[0m\u001b[1;33m)\u001b[0m\u001b[1;33m\u001b[0m\u001b[1;33m\u001b[0m\u001b[0m\n\u001b[1;32m-> 1790\u001b[1;33m         \u001b[1;32mreturn\u001b[0m \u001b[0mself\u001b[0m\u001b[1;33m.\u001b[0m\u001b[0mset_ticklabels\u001b[0m\u001b[1;33m(\u001b[0m\u001b[0mlabels\u001b[0m\u001b[1;33m,\u001b[0m \u001b[0mminor\u001b[0m\u001b[1;33m=\u001b[0m\u001b[0mminor\u001b[0m\u001b[1;33m,\u001b[0m \u001b[1;33m**\u001b[0m\u001b[0mkwargs\u001b[0m\u001b[1;33m)\u001b[0m\u001b[1;33m\u001b[0m\u001b[1;33m\u001b[0m\u001b[0m\n\u001b[0m\u001b[0;32m   1791\u001b[0m \u001b[1;33m\u001b[0m\u001b[0m\n\u001b[0;32m   1792\u001b[0m     \u001b[1;32mdef\u001b[0m \u001b[0mset_ticks\u001b[0m\u001b[1;33m(\u001b[0m\u001b[0mself\u001b[0m\u001b[1;33m,\u001b[0m \u001b[0mticks\u001b[0m\u001b[1;33m,\u001b[0m \u001b[1;33m*\u001b[0m\u001b[1;33m,\u001b[0m \u001b[0mminor\u001b[0m\u001b[1;33m=\u001b[0m\u001b[1;32mFalse\u001b[0m\u001b[1;33m)\u001b[0m\u001b[1;33m:\u001b[0m\u001b[1;33m\u001b[0m\u001b[1;33m\u001b[0m\u001b[0m\n",
      "\u001b[1;32m~\\AppData\\Roaming\\Python\\Python38\\site-packages\\matplotlib\\axis.py\u001b[0m in \u001b[0;36mset_ticklabels\u001b[1;34m(self, ticklabels, minor, **kwargs)\u001b[0m\n\u001b[0;32m   1709\u001b[0m             \u001b[1;31m# remove all tick labels, so only error for > 0 ticklabels\u001b[0m\u001b[1;33m\u001b[0m\u001b[1;33m\u001b[0m\u001b[1;33m\u001b[0m\u001b[0m\n\u001b[0;32m   1710\u001b[0m             \u001b[1;32mif\u001b[0m \u001b[0mlen\u001b[0m\u001b[1;33m(\u001b[0m\u001b[0mlocator\u001b[0m\u001b[1;33m.\u001b[0m\u001b[0mlocs\u001b[0m\u001b[1;33m)\u001b[0m \u001b[1;33m!=\u001b[0m \u001b[0mlen\u001b[0m\u001b[1;33m(\u001b[0m\u001b[0mticklabels\u001b[0m\u001b[1;33m)\u001b[0m \u001b[1;32mand\u001b[0m \u001b[0mlen\u001b[0m\u001b[1;33m(\u001b[0m\u001b[0mticklabels\u001b[0m\u001b[1;33m)\u001b[0m \u001b[1;33m!=\u001b[0m \u001b[1;36m0\u001b[0m\u001b[1;33m:\u001b[0m\u001b[1;33m\u001b[0m\u001b[1;33m\u001b[0m\u001b[0m\n\u001b[1;32m-> 1711\u001b[1;33m                 raise ValueError(\n\u001b[0m\u001b[0;32m   1712\u001b[0m                     \u001b[1;34m\"The number of FixedLocator locations\"\u001b[0m\u001b[1;33m\u001b[0m\u001b[1;33m\u001b[0m\u001b[0m\n\u001b[0;32m   1713\u001b[0m                     \u001b[1;34mf\" ({len(locator.locs)}), usually from a call to\"\u001b[0m\u001b[1;33m\u001b[0m\u001b[1;33m\u001b[0m\u001b[0m\n",
      "\u001b[1;31mValueError\u001b[0m: The number of FixedLocator locations (13), usually from a call to set_ticks, does not match the number of ticklabels (3192)."
     ]
    },
    {
     "data": {
      "image/png": "[encoded data removed]",
      "text/plain": [
       "<Figure size 432x288 with 1 Axes>"
      ]
     },
     "metadata": {
      "needs_background": "light"
     },
     "output_type": "display_data"
    }
   ],
   "source": [
    "# Bar chart by activity\n",
    "activity = victim_df['Activity']\n",
    "count = victim_df['Activity'].value_counts()\n",
    "x_axis = np.arange(len(count))\n",
    "\n",
    "tick_locations = [value for value in x_axis]\n",
    "plt.xticks(tick_locations, activity)\n",
    "\n",
    "plt.title(\"Attacks by Activity since 1975\")\n",
    "plt.xlabel(\"Activity\")\n",
    "plt.ylabel(\"Attack Count\")\n",
    "\n",
    "plt.bar(x_axis, activity, color=\"c\", align=\"center\")"
   ]
  },
  {
   "cell_type": "code",
   "execution_count": 77,
   "metadata": {},
   "outputs": [
    {
     "ename": "ValueError",
     "evalue": "x must be 1D",
     "output_type": "error",
     "traceback": [
      "\u001b[1;31m---------------------------------------------------------------------------\u001b[0m",
      "\u001b[1;31mValueError\u001b[0m                                Traceback (most recent call last)",
      "\u001b[1;32m<ipython-input-77-fabfc353147a>\u001b[0m in \u001b[0;36m<module>\u001b[1;34m\u001b[0m\n\u001b[0;32m      6\u001b[0m \u001b[0mexplode\u001b[0m \u001b[1;33m=\u001b[0m \u001b[1;33m(\u001b[0m\u001b[1;36m0.1\u001b[0m\u001b[1;33m,\u001b[0m \u001b[1;36m0\u001b[0m\u001b[1;33m)\u001b[0m\u001b[1;33m\u001b[0m\u001b[1;33m\u001b[0m\u001b[0m\n\u001b[0;32m      7\u001b[0m \u001b[1;33m\u001b[0m\u001b[0m\n\u001b[1;32m----> 8\u001b[1;33m \u001b[0mplt\u001b[0m\u001b[1;33m.\u001b[0m\u001b[0mpie\u001b[0m\u001b[1;33m(\u001b[0m\u001b[0mgender_count\u001b[0m\u001b[1;33m,\u001b[0m \u001b[0mexplode\u001b[0m\u001b[1;33m=\u001b[0m\u001b[0mexplode\u001b[0m\u001b[1;33m,\u001b[0m \u001b[0mlabels\u001b[0m\u001b[1;33m=\u001b[0m\u001b[0mlabels\u001b[0m\u001b[1;33m,\u001b[0m \u001b[0mcolors\u001b[0m\u001b[1;33m=\u001b[0m\u001b[0mcolors\u001b[0m\u001b[1;33m,\u001b[0m \u001b[0mautopct\u001b[0m\u001b[1;33m=\u001b[0m\u001b[1;34m\"%1.1f%%\"\u001b[0m\u001b[1;33m,\u001b[0m \u001b[0mshadow\u001b[0m\u001b[1;33m=\u001b[0m\u001b[1;32mTrue\u001b[0m\u001b[1;33m,\u001b[0m \u001b[0mstartangle\u001b[0m \u001b[1;33m=\u001b[0m \u001b[1;36m110\u001b[0m\u001b[1;33m)\u001b[0m\u001b[1;33m\u001b[0m\u001b[1;33m\u001b[0m\u001b[0m\n\u001b[0m\u001b[0;32m      9\u001b[0m \u001b[0mplt\u001b[0m\u001b[1;33m.\u001b[0m\u001b[0mtitle\u001b[0m\u001b[1;33m(\u001b[0m\u001b[1;34m\"Male vs Female\"\u001b[0m\u001b[1;33m)\u001b[0m\u001b[1;33m\u001b[0m\u001b[1;33m\u001b[0m\u001b[0m\n\u001b[0;32m     10\u001b[0m \u001b[0mplt\u001b[0m\u001b[1;33m.\u001b[0m\u001b[0maxis\u001b[0m\u001b[1;33m(\u001b[0m\u001b[1;34m\"equal\"\u001b[0m\u001b[1;33m)\u001b[0m\u001b[1;33m\u001b[0m\u001b[1;33m\u001b[0m\u001b[0m\n",
      "\u001b[1;32m~\\AppData\\Roaming\\Python\\Python38\\site-packages\\matplotlib\\pyplot.py\u001b[0m in \u001b[0;36mpie\u001b[1;34m(x, explode, labels, colors, autopct, pctdistance, shadow, labeldistance, startangle, radius, counterclock, wedgeprops, textprops, center, frame, rotatelabels, normalize, data)\u001b[0m\n\u001b[0;32m   3004\u001b[0m         \u001b[0mtextprops\u001b[0m\u001b[1;33m=\u001b[0m\u001b[1;32mNone\u001b[0m\u001b[1;33m,\u001b[0m \u001b[0mcenter\u001b[0m\u001b[1;33m=\u001b[0m\u001b[1;33m(\u001b[0m\u001b[1;36m0\u001b[0m\u001b[1;33m,\u001b[0m \u001b[1;36m0\u001b[0m\u001b[1;33m)\u001b[0m\u001b[1;33m,\u001b[0m \u001b[0mframe\u001b[0m\u001b[1;33m=\u001b[0m\u001b[1;32mFalse\u001b[0m\u001b[1;33m,\u001b[0m\u001b[1;33m\u001b[0m\u001b[1;33m\u001b[0m\u001b[0m\n\u001b[0;32m   3005\u001b[0m         rotatelabels=False, *, normalize=None, data=None):\n\u001b[1;32m-> 3006\u001b[1;33m     return gca().pie(\n\u001b[0m\u001b[0;32m   3007\u001b[0m         \u001b[0mx\u001b[0m\u001b[1;33m,\u001b[0m \u001b[0mexplode\u001b[0m\u001b[1;33m=\u001b[0m\u001b[0mexplode\u001b[0m\u001b[1;33m,\u001b[0m \u001b[0mlabels\u001b[0m\u001b[1;33m=\u001b[0m\u001b[0mlabels\u001b[0m\u001b[1;33m,\u001b[0m \u001b[0mcolors\u001b[0m\u001b[1;33m=\u001b[0m\u001b[0mcolors\u001b[0m\u001b[1;33m,\u001b[0m\u001b[1;33m\u001b[0m\u001b[1;33m\u001b[0m\u001b[0m\n\u001b[0;32m   3008\u001b[0m         \u001b[0mautopct\u001b[0m\u001b[1;33m=\u001b[0m\u001b[0mautopct\u001b[0m\u001b[1;33m,\u001b[0m \u001b[0mpctdistance\u001b[0m\u001b[1;33m=\u001b[0m\u001b[0mpctdistance\u001b[0m\u001b[1;33m,\u001b[0m \u001b[0mshadow\u001b[0m\u001b[1;33m=\u001b[0m\u001b[0mshadow\u001b[0m\u001b[1;33m,\u001b[0m\u001b[1;33m\u001b[0m\u001b[1;33m\u001b[0m\u001b[0m\n",
      "\u001b[1;32m~\\AppData\\Roaming\\Python\\Python38\\site-packages\\matplotlib\\__init__.py\u001b[0m in \u001b[0;36minner\u001b[1;34m(ax, data, *args, **kwargs)\u001b[0m\n\u001b[0;32m   1359\u001b[0m     \u001b[1;32mdef\u001b[0m \u001b[0minner\u001b[0m\u001b[1;33m(\u001b[0m\u001b[0max\u001b[0m\u001b[1;33m,\u001b[0m \u001b[1;33m*\u001b[0m\u001b[0margs\u001b[0m\u001b[1;33m,\u001b[0m \u001b[0mdata\u001b[0m\u001b[1;33m=\u001b[0m\u001b[1;32mNone\u001b[0m\u001b[1;33m,\u001b[0m \u001b[1;33m**\u001b[0m\u001b[0mkwargs\u001b[0m\u001b[1;33m)\u001b[0m\u001b[1;33m:\u001b[0m\u001b[1;33m\u001b[0m\u001b[1;33m\u001b[0m\u001b[0m\n\u001b[0;32m   1360\u001b[0m         \u001b[1;32mif\u001b[0m \u001b[0mdata\u001b[0m \u001b[1;32mis\u001b[0m \u001b[1;32mNone\u001b[0m\u001b[1;33m:\u001b[0m\u001b[1;33m\u001b[0m\u001b[1;33m\u001b[0m\u001b[0m\n\u001b[1;32m-> 1361\u001b[1;33m             \u001b[1;32mreturn\u001b[0m \u001b[0mfunc\u001b[0m\u001b[1;33m(\u001b[0m\u001b[0max\u001b[0m\u001b[1;33m,\u001b[0m \u001b[1;33m*\u001b[0m\u001b[0mmap\u001b[0m\u001b[1;33m(\u001b[0m\u001b[0msanitize_sequence\u001b[0m\u001b[1;33m,\u001b[0m \u001b[0margs\u001b[0m\u001b[1;33m)\u001b[0m\u001b[1;33m,\u001b[0m \u001b[1;33m**\u001b[0m\u001b[0mkwargs\u001b[0m\u001b[1;33m)\u001b[0m\u001b[1;33m\u001b[0m\u001b[1;33m\u001b[0m\u001b[0m\n\u001b[0m\u001b[0;32m   1362\u001b[0m \u001b[1;33m\u001b[0m\u001b[0m\n\u001b[0;32m   1363\u001b[0m         \u001b[0mbound\u001b[0m \u001b[1;33m=\u001b[0m \u001b[0mnew_sig\u001b[0m\u001b[1;33m.\u001b[0m\u001b[0mbind\u001b[0m\u001b[1;33m(\u001b[0m\u001b[0max\u001b[0m\u001b[1;33m,\u001b[0m \u001b[1;33m*\u001b[0m\u001b[0margs\u001b[0m\u001b[1;33m,\u001b[0m \u001b[1;33m**\u001b[0m\u001b[0mkwargs\u001b[0m\u001b[1;33m)\u001b[0m\u001b[1;33m\u001b[0m\u001b[1;33m\u001b[0m\u001b[0m\n",
      "\u001b[1;32m~\\AppData\\Roaming\\Python\\Python38\\site-packages\\matplotlib\\axes\\_axes.py\u001b[0m in \u001b[0;36mpie\u001b[1;34m(self, x, explode, labels, colors, autopct, pctdistance, shadow, labeldistance, startangle, radius, counterclock, wedgeprops, textprops, center, frame, rotatelabels, normalize)\u001b[0m\n\u001b[0;32m   3030\u001b[0m         \u001b[0mx\u001b[0m \u001b[1;33m=\u001b[0m \u001b[0mnp\u001b[0m\u001b[1;33m.\u001b[0m\u001b[0masarray\u001b[0m\u001b[1;33m(\u001b[0m\u001b[0mx\u001b[0m\u001b[1;33m,\u001b[0m \u001b[0mnp\u001b[0m\u001b[1;33m.\u001b[0m\u001b[0mfloat32\u001b[0m\u001b[1;33m)\u001b[0m\u001b[1;33m\u001b[0m\u001b[1;33m\u001b[0m\u001b[0m\n\u001b[0;32m   3031\u001b[0m         \u001b[1;32mif\u001b[0m \u001b[0mx\u001b[0m\u001b[1;33m.\u001b[0m\u001b[0mndim\u001b[0m \u001b[1;33m>\u001b[0m \u001b[1;36m1\u001b[0m\u001b[1;33m:\u001b[0m\u001b[1;33m\u001b[0m\u001b[1;33m\u001b[0m\u001b[0m\n\u001b[1;32m-> 3032\u001b[1;33m             \u001b[1;32mraise\u001b[0m \u001b[0mValueError\u001b[0m\u001b[1;33m(\u001b[0m\u001b[1;34m\"x must be 1D\"\u001b[0m\u001b[1;33m)\u001b[0m\u001b[1;33m\u001b[0m\u001b[1;33m\u001b[0m\u001b[0m\n\u001b[0m\u001b[0;32m   3033\u001b[0m \u001b[1;33m\u001b[0m\u001b[0m\n\u001b[0;32m   3034\u001b[0m         \u001b[1;32mif\u001b[0m \u001b[0mnp\u001b[0m\u001b[1;33m.\u001b[0m\u001b[0many\u001b[0m\u001b[1;33m(\u001b[0m\u001b[0mx\u001b[0m \u001b[1;33m<\u001b[0m \u001b[1;36m0\u001b[0m\u001b[1;33m)\u001b[0m\u001b[1;33m:\u001b[0m\u001b[1;33m\u001b[0m\u001b[1;33m\u001b[0m\u001b[0m\n",
      "\u001b[1;31mValueError\u001b[0m: x must be 1D"
     ]
    },
    {
     "data": {
      "image/png": "[encoded data removed]",
      "text/plain": [
       "<Figure size 432x288 with 1 Axes>"
      ]
     },
     "metadata": {
      "needs_background": "light"
     },
     "output_type": "display_data"
    }
   ],
   "source": [
    "# pie chart by gender \n",
    "gender_count = (victim_df.groupby([\"Sex \"]).count())\n",
    "\n",
    "labels = [\"Female\", \"Male\", \"Unknown\"]\n",
    "colors = [\"lightcoral\", \"lightskyblue\", \"yellow\"]\n",
    "explode = (0.1, 0)\n",
    "\n",
    "plt.pie(gender_count, explode=explode, labels=labels, colors=colors, autopct=\"%1.1f%%\", shadow=True, startangle = 110)\n",
    "plt.title(\"Male vs Female\")\n",
    "plt.axis(\"equal\")\n",
    "plt.savefig('Male_vs_Female.png')\n",
    "plt.show()"
   ]
  },
  {
   "cell_type": "code",
   "execution_count": null,
   "metadata": {},
   "outputs": [],
   "source": [
    "# stacked bar graph: gender vs provoked/not provoked "
   ]
  },
  {
   "cell_type": "code",
   "execution_count": null,
   "metadata": {},
   "outputs": [],
   "source": [
    "# pie graph: age groups by fatality "
   ]
  },
  {
   "cell_type": "code",
   "execution_count": null,
   "metadata": {},
   "outputs": [],
   "source": [
    "# stacked bar graph: Injury vs provoked/Not provoked "
   ]
  }
 ],
 "metadata": {
  "kernelspec": {
   "display_name": "Python [conda env:PythonData] *",
   "language": "python",
   "name": "conda-env-PythonData-py"
  },
  "language_info": {
   "codemirror_mode": {
    "name": "ipython",
    "version": 3
   },
   "file_extension": ".py",
   "mimetype": "text/x-python",
   "name": "python",
   "nbconvert_exporter": "python",
   "pygments_lexer": "ipython3",
   "version": "3.8.5"
  }
 },
 "nbformat": 4,
 "nbformat_minor": 4
}
